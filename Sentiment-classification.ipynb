{
 "cells": [
  {
   "cell_type": "markdown",
   "id": "41bb130c",
   "metadata": {},
   "source": [
    "# Task: 문장 감정 분류"
   ]
  },
  {
   "cell_type": "code",
   "execution_count": 1,
   "id": "98501273",
   "metadata": {},
   "outputs": [],
   "source": [
    "#print문 없이 변수 확인 가능한 환경설정\n",
    "from IPython.core.interactiveshell import InteractiveShell\n",
    "InteractiveShell.ast_node_interactivity ='all'"
   ]
  },
  {
   "cell_type": "markdown",
   "id": "2c0201a8",
   "metadata": {},
   "source": [
    "# Importing the dataset"
   ]
  },
  {
   "cell_type": "code",
   "execution_count": 2,
   "id": "850df77f",
   "metadata": {},
   "outputs": [],
   "source": [
    "import numpy as np\n",
    "import pandas as pd"
   ]
  },
  {
   "cell_type": "code",
   "execution_count": 3,
   "id": "c88a0db6",
   "metadata": {},
   "outputs": [
    {
     "data": {
      "text/html": [
       "<div>\n",
       "<style scoped>\n",
       "    .dataframe tbody tr th:only-of-type {\n",
       "        vertical-align: middle;\n",
       "    }\n",
       "\n",
       "    .dataframe tbody tr th {\n",
       "        vertical-align: top;\n",
       "    }\n",
       "\n",
       "    .dataframe thead th {\n",
       "        text-align: right;\n",
       "    }\n",
       "</style>\n",
       "<table border=\"1\" class=\"dataframe\">\n",
       "  <thead>\n",
       "    <tr style=\"text-align: right;\">\n",
       "      <th></th>\n",
       "      <th>0</th>\n",
       "      <th>1</th>\n",
       "      <th>2</th>\n",
       "    </tr>\n",
       "  </thead>\n",
       "  <tbody>\n",
       "    <tr>\n",
       "      <th>0</th>\n",
       "      <td>tweet_id</td>\n",
       "      <td>sentiment</td>\n",
       "      <td>content</td>\n",
       "    </tr>\n",
       "    <tr>\n",
       "      <th>1</th>\n",
       "      <td>1956967341</td>\n",
       "      <td>empty</td>\n",
       "      <td>@tiffanylue i know  i was listenin to bad habi...</td>\n",
       "    </tr>\n",
       "    <tr>\n",
       "      <th>2</th>\n",
       "      <td>1956967666</td>\n",
       "      <td>sadness</td>\n",
       "      <td>Layin n bed with a headache  ughhhh...waitin o...</td>\n",
       "    </tr>\n",
       "    <tr>\n",
       "      <th>3</th>\n",
       "      <td>1956967696</td>\n",
       "      <td>sadness</td>\n",
       "      <td>Funeral ceremony...gloomy friday...</td>\n",
       "    </tr>\n",
       "    <tr>\n",
       "      <th>4</th>\n",
       "      <td>1956967789</td>\n",
       "      <td>enthusiasm</td>\n",
       "      <td>wants to hang out with friends SOON!</td>\n",
       "    </tr>\n",
       "    <tr>\n",
       "      <th>...</th>\n",
       "      <td>...</td>\n",
       "      <td>...</td>\n",
       "      <td>...</td>\n",
       "    </tr>\n",
       "    <tr>\n",
       "      <th>39996</th>\n",
       "      <td>1753918954</td>\n",
       "      <td>neutral</td>\n",
       "      <td>@JohnLloydTaylor</td>\n",
       "    </tr>\n",
       "    <tr>\n",
       "      <th>39997</th>\n",
       "      <td>1753919001</td>\n",
       "      <td>love</td>\n",
       "      <td>Happy Mothers Day  All my love</td>\n",
       "    </tr>\n",
       "    <tr>\n",
       "      <th>39998</th>\n",
       "      <td>1753919005</td>\n",
       "      <td>love</td>\n",
       "      <td>Happy Mother's Day to all the mommies out ther...</td>\n",
       "    </tr>\n",
       "    <tr>\n",
       "      <th>39999</th>\n",
       "      <td>1753919043</td>\n",
       "      <td>happiness</td>\n",
       "      <td>@niariley WASSUP BEAUTIFUL!!! FOLLOW ME!!  PEE...</td>\n",
       "    </tr>\n",
       "    <tr>\n",
       "      <th>40000</th>\n",
       "      <td>1753919049</td>\n",
       "      <td>love</td>\n",
       "      <td>@mopedronin bullet train from tokyo    the gf ...</td>\n",
       "    </tr>\n",
       "  </tbody>\n",
       "</table>\n",
       "<p>40001 rows × 3 columns</p>\n",
       "</div>"
      ],
      "text/plain": [
       "                0           1  \\\n",
       "0        tweet_id   sentiment   \n",
       "1      1956967341       empty   \n",
       "2      1956967666     sadness   \n",
       "3      1956967696     sadness   \n",
       "4      1956967789  enthusiasm   \n",
       "...           ...         ...   \n",
       "39996  1753918954     neutral   \n",
       "39997  1753919001        love   \n",
       "39998  1753919005        love   \n",
       "39999  1753919043   happiness   \n",
       "40000  1753919049        love   \n",
       "\n",
       "                                                       2  \n",
       "0                                                content  \n",
       "1      @tiffanylue i know  i was listenin to bad habi...  \n",
       "2      Layin n bed with a headache  ughhhh...waitin o...  \n",
       "3                    Funeral ceremony...gloomy friday...  \n",
       "4                   wants to hang out with friends SOON!  \n",
       "...                                                  ...  \n",
       "39996                                   @JohnLloydTaylor  \n",
       "39997                     Happy Mothers Day  All my love  \n",
       "39998  Happy Mother's Day to all the mommies out ther...  \n",
       "39999  @niariley WASSUP BEAUTIFUL!!! FOLLOW ME!!  PEE...  \n",
       "40000  @mopedronin bullet train from tokyo    the gf ...  \n",
       "\n",
       "[40001 rows x 3 columns]"
      ]
     },
     "execution_count": 3,
     "metadata": {},
     "output_type": "execute_result"
    }
   ],
   "source": [
    "df = pd.read_csv(\"./data/tweet_emotions.csv\", header=None)\n",
    "df"
   ]
  },
  {
   "cell_type": "code",
   "execution_count": 4,
   "id": "6e19af1f",
   "metadata": {},
   "outputs": [
    {
     "data": {
      "text/plain": [
       "(40001, 3)"
      ]
     },
     "execution_count": 4,
     "metadata": {},
     "output_type": "execute_result"
    }
   ],
   "source": [
    "df.shape"
   ]
  },
  {
   "cell_type": "markdown",
   "id": "6d201519",
   "metadata": {},
   "source": [
    "# EDA 및 전처리"
   ]
  },
  {
   "cell_type": "markdown",
   "id": "a3571e3a",
   "metadata": {},
   "source": [
    "## 필요없는 컬럼 제거"
   ]
  },
  {
   "cell_type": "code",
   "execution_count": 5,
   "id": "3b4085a9",
   "metadata": {},
   "outputs": [
    {
     "data": {
      "text/html": [
       "<div>\n",
       "<style scoped>\n",
       "    .dataframe tbody tr th:only-of-type {\n",
       "        vertical-align: middle;\n",
       "    }\n",
       "\n",
       "    .dataframe tbody tr th {\n",
       "        vertical-align: top;\n",
       "    }\n",
       "\n",
       "    .dataframe thead th {\n",
       "        text-align: right;\n",
       "    }\n",
       "</style>\n",
       "<table border=\"1\" class=\"dataframe\">\n",
       "  <thead>\n",
       "    <tr style=\"text-align: right;\">\n",
       "      <th></th>\n",
       "      <th>1</th>\n",
       "      <th>2</th>\n",
       "    </tr>\n",
       "  </thead>\n",
       "  <tbody>\n",
       "    <tr>\n",
       "      <th>1</th>\n",
       "      <td>empty</td>\n",
       "      <td>@tiffanylue i know  i was listenin to bad habi...</td>\n",
       "    </tr>\n",
       "    <tr>\n",
       "      <th>2</th>\n",
       "      <td>sadness</td>\n",
       "      <td>Layin n bed with a headache  ughhhh...waitin o...</td>\n",
       "    </tr>\n",
       "    <tr>\n",
       "      <th>3</th>\n",
       "      <td>sadness</td>\n",
       "      <td>Funeral ceremony...gloomy friday...</td>\n",
       "    </tr>\n",
       "    <tr>\n",
       "      <th>4</th>\n",
       "      <td>enthusiasm</td>\n",
       "      <td>wants to hang out with friends SOON!</td>\n",
       "    </tr>\n",
       "    <tr>\n",
       "      <th>5</th>\n",
       "      <td>neutral</td>\n",
       "      <td>@dannycastillo We want to trade with someone w...</td>\n",
       "    </tr>\n",
       "    <tr>\n",
       "      <th>...</th>\n",
       "      <td>...</td>\n",
       "      <td>...</td>\n",
       "    </tr>\n",
       "    <tr>\n",
       "      <th>39996</th>\n",
       "      <td>neutral</td>\n",
       "      <td>@JohnLloydTaylor</td>\n",
       "    </tr>\n",
       "    <tr>\n",
       "      <th>39997</th>\n",
       "      <td>love</td>\n",
       "      <td>Happy Mothers Day  All my love</td>\n",
       "    </tr>\n",
       "    <tr>\n",
       "      <th>39998</th>\n",
       "      <td>love</td>\n",
       "      <td>Happy Mother's Day to all the mommies out ther...</td>\n",
       "    </tr>\n",
       "    <tr>\n",
       "      <th>39999</th>\n",
       "      <td>happiness</td>\n",
       "      <td>@niariley WASSUP BEAUTIFUL!!! FOLLOW ME!!  PEE...</td>\n",
       "    </tr>\n",
       "    <tr>\n",
       "      <th>40000</th>\n",
       "      <td>love</td>\n",
       "      <td>@mopedronin bullet train from tokyo    the gf ...</td>\n",
       "    </tr>\n",
       "  </tbody>\n",
       "</table>\n",
       "<p>40000 rows × 2 columns</p>\n",
       "</div>"
      ],
      "text/plain": [
       "                1                                                  2\n",
       "1           empty  @tiffanylue i know  i was listenin to bad habi...\n",
       "2         sadness  Layin n bed with a headache  ughhhh...waitin o...\n",
       "3         sadness                Funeral ceremony...gloomy friday...\n",
       "4      enthusiasm               wants to hang out with friends SOON!\n",
       "5         neutral  @dannycastillo We want to trade with someone w...\n",
       "...           ...                                                ...\n",
       "39996     neutral                                   @JohnLloydTaylor\n",
       "39997        love                     Happy Mothers Day  All my love\n",
       "39998        love  Happy Mother's Day to all the mommies out ther...\n",
       "39999   happiness  @niariley WASSUP BEAUTIFUL!!! FOLLOW ME!!  PEE...\n",
       "40000        love  @mopedronin bullet train from tokyo    the gf ...\n",
       "\n",
       "[40000 rows x 2 columns]"
      ]
     },
     "execution_count": 5,
     "metadata": {},
     "output_type": "execute_result"
    }
   ],
   "source": [
    "df = df.drop(0, axis=1)\n",
    "df = df.drop(0, axis=0)\n",
    "df"
   ]
  },
  {
   "cell_type": "markdown",
   "id": "0018ba16",
   "metadata": {},
   "source": [
    "## feature명 변경"
   ]
  },
  {
   "cell_type": "code",
   "execution_count": 6,
   "id": "45d1dbb4",
   "metadata": {},
   "outputs": [
    {
     "data": {
      "text/html": [
       "<div>\n",
       "<style scoped>\n",
       "    .dataframe tbody tr th:only-of-type {\n",
       "        vertical-align: middle;\n",
       "    }\n",
       "\n",
       "    .dataframe tbody tr th {\n",
       "        vertical-align: top;\n",
       "    }\n",
       "\n",
       "    .dataframe thead th {\n",
       "        text-align: right;\n",
       "    }\n",
       "</style>\n",
       "<table border=\"1\" class=\"dataframe\">\n",
       "  <thead>\n",
       "    <tr style=\"text-align: right;\">\n",
       "      <th></th>\n",
       "      <th>sentiment</th>\n",
       "      <th>content</th>\n",
       "    </tr>\n",
       "  </thead>\n",
       "  <tbody>\n",
       "    <tr>\n",
       "      <th>1</th>\n",
       "      <td>empty</td>\n",
       "      <td>@tiffanylue i know  i was listenin to bad habi...</td>\n",
       "    </tr>\n",
       "    <tr>\n",
       "      <th>2</th>\n",
       "      <td>sadness</td>\n",
       "      <td>Layin n bed with a headache  ughhhh...waitin o...</td>\n",
       "    </tr>\n",
       "    <tr>\n",
       "      <th>3</th>\n",
       "      <td>sadness</td>\n",
       "      <td>Funeral ceremony...gloomy friday...</td>\n",
       "    </tr>\n",
       "    <tr>\n",
       "      <th>4</th>\n",
       "      <td>enthusiasm</td>\n",
       "      <td>wants to hang out with friends SOON!</td>\n",
       "    </tr>\n",
       "    <tr>\n",
       "      <th>5</th>\n",
       "      <td>neutral</td>\n",
       "      <td>@dannycastillo We want to trade with someone w...</td>\n",
       "    </tr>\n",
       "    <tr>\n",
       "      <th>...</th>\n",
       "      <td>...</td>\n",
       "      <td>...</td>\n",
       "    </tr>\n",
       "    <tr>\n",
       "      <th>39996</th>\n",
       "      <td>neutral</td>\n",
       "      <td>@JohnLloydTaylor</td>\n",
       "    </tr>\n",
       "    <tr>\n",
       "      <th>39997</th>\n",
       "      <td>love</td>\n",
       "      <td>Happy Mothers Day  All my love</td>\n",
       "    </tr>\n",
       "    <tr>\n",
       "      <th>39998</th>\n",
       "      <td>love</td>\n",
       "      <td>Happy Mother's Day to all the mommies out ther...</td>\n",
       "    </tr>\n",
       "    <tr>\n",
       "      <th>39999</th>\n",
       "      <td>happiness</td>\n",
       "      <td>@niariley WASSUP BEAUTIFUL!!! FOLLOW ME!!  PEE...</td>\n",
       "    </tr>\n",
       "    <tr>\n",
       "      <th>40000</th>\n",
       "      <td>love</td>\n",
       "      <td>@mopedronin bullet train from tokyo    the gf ...</td>\n",
       "    </tr>\n",
       "  </tbody>\n",
       "</table>\n",
       "<p>40000 rows × 2 columns</p>\n",
       "</div>"
      ],
      "text/plain": [
       "        sentiment                                            content\n",
       "1           empty  @tiffanylue i know  i was listenin to bad habi...\n",
       "2         sadness  Layin n bed with a headache  ughhhh...waitin o...\n",
       "3         sadness                Funeral ceremony...gloomy friday...\n",
       "4      enthusiasm               wants to hang out with friends SOON!\n",
       "5         neutral  @dannycastillo We want to trade with someone w...\n",
       "...           ...                                                ...\n",
       "39996     neutral                                   @JohnLloydTaylor\n",
       "39997        love                     Happy Mothers Day  All my love\n",
       "39998        love  Happy Mother's Day to all the mommies out ther...\n",
       "39999   happiness  @niariley WASSUP BEAUTIFUL!!! FOLLOW ME!!  PEE...\n",
       "40000        love  @mopedronin bullet train from tokyo    the gf ...\n",
       "\n",
       "[40000 rows x 2 columns]"
      ]
     },
     "execution_count": 6,
     "metadata": {},
     "output_type": "execute_result"
    }
   ],
   "source": [
    "df = df.rename({1:'sentiment', 2:'content'}, axis=1)\n",
    "df"
   ]
  },
  {
   "cell_type": "markdown",
   "id": "05e938d3",
   "metadata": {},
   "source": [
    "## 텍스트 전처리"
   ]
  },
  {
   "cell_type": "code",
   "execution_count": 7,
   "id": "e7873f53",
   "metadata": {},
   "outputs": [],
   "source": [
    "import re\n",
    "from nltk.corpus import stopwords\n",
    "from nltk.tokenize import word_tokenize\n",
    "from nltk.stem import WordNetLemmatizer\n",
    "\n",
    "def preprocess_text(sentence):\n",
    "    #HTML 엔티티 제거\n",
    "    sentence = re.sub(r\"&[a-zA-Z]+;\", \"\", sentence)\n",
    "    \n",
    "    # 사용자명 제거\n",
    "    sentence = re.sub(r\"@\\w+\", \"\", sentence)  \n",
    "    \n",
    "    # 공백 축소\n",
    "    sentence = re.sub('\\s+', ' ', sentence)\n",
    "    \n",
    "    #소문자 변환\n",
    "    sentence = sentence.lower()\n",
    "    \n",
    "    #특수 문자 제거(대소문자 및 공백만 두고 나머지 제거)\n",
    "    sentence = re.sub(r\"[^a-zA-Z\\s]\", \"\", sentence)\n",
    "    \n",
    "    # URL 제거\n",
    "    url_pattern = re.compile(r'https?://\\S+|www\\.\\S+')\n",
    "    sentence = url_pattern.sub('', sentence)\n",
    "    \n",
    "    #토큰화\n",
    "    tokens = word_tokenize(sentence)\n",
    "    \n",
    "    #불용어 제거\n",
    "    stopword = set(stopwords.words(\"english\"))\n",
    "    tokens = [token for token in tokens if token not in stopword]\n",
    "    \n",
    "    # 토큰 수가 3보다 작은 경우 빈 문자열 반환\n",
    "    if len(tokens) < 3:\n",
    "        return ''\n",
    "    \n",
    "    #표제어 추출\n",
    "    lemmatizer = WordNetLemmatizer()\n",
    "    tokens = [lemmatizer.lemmatize(token) for token in tokens]\n",
    "    \n",
    "    #반환\n",
    "    result_text = \" \".join(tokens)\n",
    "    return result_text"
   ]
  },
  {
   "cell_type": "code",
   "execution_count": 8,
   "id": "6e624826",
   "metadata": {},
   "outputs": [],
   "source": [
    "df['content'] = df['content'].apply(preprocess_text)"
   ]
  },
  {
   "cell_type": "code",
   "execution_count": 9,
   "id": "e594fa05",
   "metadata": {},
   "outputs": [],
   "source": [
    "# 빈 문자열 제거\n",
    "df = df[df['content'] != '']"
   ]
  },
  {
   "cell_type": "code",
   "execution_count": 10,
   "id": "cfec35fe",
   "metadata": {},
   "outputs": [
    {
     "data": {
      "text/html": [
       "<div>\n",
       "<style scoped>\n",
       "    .dataframe tbody tr th:only-of-type {\n",
       "        vertical-align: middle;\n",
       "    }\n",
       "\n",
       "    .dataframe tbody tr th {\n",
       "        vertical-align: top;\n",
       "    }\n",
       "\n",
       "    .dataframe thead th {\n",
       "        text-align: right;\n",
       "    }\n",
       "</style>\n",
       "<table border=\"1\" class=\"dataframe\">\n",
       "  <thead>\n",
       "    <tr style=\"text-align: right;\">\n",
       "      <th></th>\n",
       "      <th>sentiment</th>\n",
       "      <th>content</th>\n",
       "    </tr>\n",
       "  </thead>\n",
       "  <tbody>\n",
       "    <tr>\n",
       "      <th>1</th>\n",
       "      <td>empty</td>\n",
       "      <td>know listenin bad habit earlier started freaki...</td>\n",
       "    </tr>\n",
       "    <tr>\n",
       "      <th>2</th>\n",
       "      <td>sadness</td>\n",
       "      <td>layin n bed headache ughhhhwaitin call</td>\n",
       "    </tr>\n",
       "    <tr>\n",
       "      <th>3</th>\n",
       "      <td>sadness</td>\n",
       "      <td>funeral ceremonygloomy friday</td>\n",
       "    </tr>\n",
       "    <tr>\n",
       "      <th>4</th>\n",
       "      <td>enthusiasm</td>\n",
       "      <td>want hang friend soon</td>\n",
       "    </tr>\n",
       "    <tr>\n",
       "      <th>5</th>\n",
       "      <td>neutral</td>\n",
       "      <td>want trade someone houston ticket one</td>\n",
       "    </tr>\n",
       "    <tr>\n",
       "      <th>...</th>\n",
       "      <td>...</td>\n",
       "      <td>...</td>\n",
       "    </tr>\n",
       "    <tr>\n",
       "      <th>39995</th>\n",
       "      <td>happiness</td>\n",
       "      <td>succesfully following tayla</td>\n",
       "    </tr>\n",
       "    <tr>\n",
       "      <th>39997</th>\n",
       "      <td>love</td>\n",
       "      <td>happy mother day love</td>\n",
       "    </tr>\n",
       "    <tr>\n",
       "      <th>39998</th>\n",
       "      <td>love</td>\n",
       "      <td>happy mother day mommy woman man long youre mo...</td>\n",
       "    </tr>\n",
       "    <tr>\n",
       "      <th>39999</th>\n",
       "      <td>happiness</td>\n",
       "      <td>wassup beautiful follow peep new hit single ww...</td>\n",
       "    </tr>\n",
       "    <tr>\n",
       "      <th>40000</th>\n",
       "      <td>love</td>\n",
       "      <td>bullet train tokyo gf visiting japan since thu...</td>\n",
       "    </tr>\n",
       "  </tbody>\n",
       "</table>\n",
       "<p>35752 rows × 2 columns</p>\n",
       "</div>"
      ],
      "text/plain": [
       "        sentiment                                            content\n",
       "1           empty  know listenin bad habit earlier started freaki...\n",
       "2         sadness             layin n bed headache ughhhhwaitin call\n",
       "3         sadness                      funeral ceremonygloomy friday\n",
       "4      enthusiasm                              want hang friend soon\n",
       "5         neutral              want trade someone houston ticket one\n",
       "...           ...                                                ...\n",
       "39995   happiness                        succesfully following tayla\n",
       "39997        love                              happy mother day love\n",
       "39998        love  happy mother day mommy woman man long youre mo...\n",
       "39999   happiness  wassup beautiful follow peep new hit single ww...\n",
       "40000        love  bullet train tokyo gf visiting japan since thu...\n",
       "\n",
       "[35752 rows x 2 columns]"
      ]
     },
     "execution_count": 10,
     "metadata": {},
     "output_type": "execute_result"
    }
   ],
   "source": [
    "df"
   ]
  },
  {
   "cell_type": "markdown",
   "id": "12276f36",
   "metadata": {},
   "source": [
    "## 생성된 데이터 결측치 및 구조 확인"
   ]
  },
  {
   "cell_type": "code",
   "execution_count": 11,
   "id": "0f677f46",
   "metadata": {},
   "outputs": [
    {
     "data": {
      "text/plain": [
       "sentiment    0\n",
       "content      0\n",
       "dtype: int64"
      ]
     },
     "execution_count": 11,
     "metadata": {},
     "output_type": "execute_result"
    }
   ],
   "source": [
    "#결측치 확인\n",
    "df.isnull().sum(axis=0)"
   ]
  },
  {
   "cell_type": "code",
   "execution_count": 12,
   "id": "c49f17e2",
   "metadata": {},
   "outputs": [
    {
     "name": "stdout",
     "output_type": "stream",
     "text": [
      "<class 'pandas.core.frame.DataFrame'>\n",
      "Int64Index: 35752 entries, 1 to 40000\n",
      "Data columns (total 2 columns):\n",
      " #   Column     Non-Null Count  Dtype \n",
      "---  ------     --------------  ----- \n",
      " 0   sentiment  35752 non-null  object\n",
      " 1   content    35752 non-null  object\n",
      "dtypes: object(2)\n",
      "memory usage: 837.9+ KB\n"
     ]
    }
   ],
   "source": [
    "df.info()"
   ]
  },
  {
   "cell_type": "code",
   "execution_count": 13,
   "id": "6b947bbd",
   "metadata": {},
   "outputs": [
    {
     "data": {
      "text/plain": [
       "worry         7795\n",
       "neutral       6966\n",
       "happiness     4812\n",
       "sadness       4725\n",
       "love          3528\n",
       "surprise      1975\n",
       "fun           1696\n",
       "relief        1394\n",
       "hate          1229\n",
       "enthusiasm     691\n",
       "empty          671\n",
       "boredom        170\n",
       "anger          100\n",
       "Name: sentiment, dtype: int64"
      ]
     },
     "execution_count": 13,
     "metadata": {},
     "output_type": "execute_result"
    }
   ],
   "source": [
    "df['sentiment'].value_counts(ascending=False)"
   ]
  },
  {
   "cell_type": "code",
   "execution_count": 14,
   "id": "d6158cec",
   "metadata": {},
   "outputs": [
    {
     "data": {
      "text/plain": [
       "<Figure size 1000x600 with 0 Axes>"
      ]
     },
     "execution_count": 14,
     "metadata": {},
     "output_type": "execute_result"
    },
    {
     "data": {
      "text/plain": [
       "<AxesSubplot:xlabel='count', ylabel='sentiment'>"
      ]
     },
     "execution_count": 14,
     "metadata": {},
     "output_type": "execute_result"
    },
    {
     "data": {
      "image/png": "[encoded data removed]",
      "text/plain": [
       "<Figure size 1000x600 with 1 Axes>"
      ]
     },
     "metadata": {},
     "output_type": "display_data"
    }
   ],
   "source": [
    "import matplotlib.pyplot as plt\n",
    "import seaborn as sns\n",
    "\n",
    "plt.figure(figsize=(10,6))\n",
    "sns.countplot(y='sentiment', data=df, order = df['sentiment'].value_counts().index)"
   ]
  },
  {
   "cell_type": "markdown",
   "id": "5e75ed93",
   "metadata": {},
   "source": [
    "## Encoding"
   ]
  },
  {
   "cell_type": "code",
   "execution_count": 15,
   "id": "6ff04cbc",
   "metadata": {},
   "outputs": [
    {
     "name": "stderr",
     "output_type": "stream",
     "text": [
      "C:\\Users\\82108\\AppData\\Local\\Temp\\ipykernel_24180\\4143307047.py:5: SettingWithCopyWarning: \n",
      "A value is trying to be set on a copy of a slice from a DataFrame.\n",
      "Try using .loc[row_indexer,col_indexer] = value instead\n",
      "\n",
      "See the caveats in the documentation: https://pandas.pydata.org/pandas-docs/stable/user_guide/indexing.html#returning-a-view-versus-a-copy\n",
      "  df['sentiment'] = le.fit_transform(df['sentiment'])\n"
     ]
    }
   ],
   "source": [
    "from sklearn.preprocessing import LabelEncoder\n",
    "\n",
    "le = LabelEncoder()\n",
    "\n",
    "df['sentiment'] = le.fit_transform(df['sentiment'])"
   ]
  },
  {
   "cell_type": "code",
   "execution_count": 16,
   "id": "29637c10",
   "metadata": {},
   "outputs": [
    {
     "data": {
      "text/html": [
       "<div>\n",
       "<style scoped>\n",
       "    .dataframe tbody tr th:only-of-type {\n",
       "        vertical-align: middle;\n",
       "    }\n",
       "\n",
       "    .dataframe tbody tr th {\n",
       "        vertical-align: top;\n",
       "    }\n",
       "\n",
       "    .dataframe thead th {\n",
       "        text-align: right;\n",
       "    }\n",
       "</style>\n",
       "<table border=\"1\" class=\"dataframe\">\n",
       "  <thead>\n",
       "    <tr style=\"text-align: right;\">\n",
       "      <th></th>\n",
       "      <th>sentiment</th>\n",
       "      <th>content</th>\n",
       "    </tr>\n",
       "  </thead>\n",
       "  <tbody>\n",
       "    <tr>\n",
       "      <th>1</th>\n",
       "      <td>2</td>\n",
       "      <td>know listenin bad habit earlier started freaki...</td>\n",
       "    </tr>\n",
       "    <tr>\n",
       "      <th>2</th>\n",
       "      <td>10</td>\n",
       "      <td>layin n bed headache ughhhhwaitin call</td>\n",
       "    </tr>\n",
       "    <tr>\n",
       "      <th>3</th>\n",
       "      <td>10</td>\n",
       "      <td>funeral ceremonygloomy friday</td>\n",
       "    </tr>\n",
       "    <tr>\n",
       "      <th>4</th>\n",
       "      <td>3</td>\n",
       "      <td>want hang friend soon</td>\n",
       "    </tr>\n",
       "    <tr>\n",
       "      <th>5</th>\n",
       "      <td>8</td>\n",
       "      <td>want trade someone houston ticket one</td>\n",
       "    </tr>\n",
       "  </tbody>\n",
       "</table>\n",
       "</div>"
      ],
      "text/plain": [
       "   sentiment                                            content\n",
       "1          2  know listenin bad habit earlier started freaki...\n",
       "2         10             layin n bed headache ughhhhwaitin call\n",
       "3         10                      funeral ceremonygloomy friday\n",
       "4          3                              want hang friend soon\n",
       "5          8              want trade someone houston ticket one"
      ]
     },
     "execution_count": 16,
     "metadata": {},
     "output_type": "execute_result"
    }
   ],
   "source": [
    "df.head()"
   ]
  },
  {
   "cell_type": "markdown",
   "id": "aff80cbf",
   "metadata": {},
   "source": [
    "# Model"
   ]
  },
  {
   "cell_type": "code",
   "execution_count": 17,
   "id": "020b4fc4",
   "metadata": {},
   "outputs": [
    {
     "name": "stdout",
     "output_type": "stream",
     "text": [
      "Requirement already satisfied: transformers in c:\\users\\82108\\anaconda3\\lib\\site-packages (4.28.1)\n",
      "Requirement already satisfied: huggingface-hub<1.0,>=0.11.0 in c:\\users\\82108\\anaconda3\\lib\\site-packages (from transformers) (0.14.1)\n",
      "Requirement already satisfied: regex!=2019.12.17 in c:\\users\\82108\\anaconda3\\lib\\site-packages (from transformers) (2022.7.9)\n",
      "Requirement already satisfied: tokenizers!=0.11.3,<0.14,>=0.11.1 in c:\\users\\82108\\anaconda3\\lib\\site-packages (from transformers) (0.13.3)\n",
      "Requirement already satisfied: filelock in c:\\users\\82108\\anaconda3\\lib\\site-packages (from transformers) (3.9.0)\n",
      "Requirement already satisfied: packaging>=20.0 in c:\\users\\82108\\anaconda3\\lib\\site-packages (from transformers) (23.0)\n",
      "Requirement already satisfied: tqdm>=4.27 in c:\\users\\82108\\anaconda3\\lib\\site-packages (from transformers) (4.65.0)\n",
      "Requirement already satisfied: pyyaml>=5.1 in c:\\users\\82108\\anaconda3\\lib\\site-packages (from transformers) (6.0)\n",
      "Requirement already satisfied: numpy>=1.17 in c:\\users\\82108\\anaconda3\\lib\\site-packages (from transformers) (1.22.4)\n",
      "Requirement already satisfied: requests in c:\\users\\82108\\anaconda3\\lib\\site-packages (from transformers) (2.29.0)\n",
      "Requirement already satisfied: typing-extensions>=3.7.4.3 in c:\\users\\82108\\anaconda3\\lib\\site-packages (from huggingface-hub<1.0,>=0.11.0->transformers) (4.5.0)\n",
      "Requirement already satisfied: fsspec in c:\\users\\82108\\anaconda3\\lib\\site-packages (from huggingface-hub<1.0,>=0.11.0->transformers) (2023.4.0)\n",
      "Requirement already satisfied: colorama in c:\\users\\82108\\anaconda3\\lib\\site-packages (from tqdm>=4.27->transformers) (0.4.6)\n",
      "Requirement already satisfied: urllib3<1.27,>=1.21.1 in c:\\users\\82108\\anaconda3\\lib\\site-packages (from requests->transformers) (1.26.15)\n",
      "Requirement already satisfied: charset-normalizer<4,>=2 in c:\\users\\82108\\anaconda3\\lib\\site-packages (from requests->transformers) (2.0.4)\n",
      "Requirement already satisfied: idna<4,>=2.5 in c:\\users\\82108\\anaconda3\\lib\\site-packages (from requests->transformers) (3.4)\n",
      "Requirement already satisfied: certifi>=2017.4.17 in c:\\users\\82108\\anaconda3\\lib\\site-packages (from requests->transformers) (2023.5.7)\n"
     ]
    }
   ],
   "source": [
    "!pip install transformers"
   ]
  },
  {
   "cell_type": "code",
   "execution_count": 18,
   "id": "f3e974f6",
   "metadata": {},
   "outputs": [
    {
     "name": "stdout",
     "output_type": "stream",
     "text": [
      "Requirement already satisfied: torch in c:\\users\\82108\\anaconda3\\lib\\site-packages (2.0.1)\n",
      "Requirement already satisfied: networkx in c:\\users\\82108\\anaconda3\\lib\\site-packages (from torch) (2.8.4)\n",
      "Requirement already satisfied: typing-extensions in c:\\users\\82108\\anaconda3\\lib\\site-packages (from torch) (4.5.0)\n",
      "Requirement already satisfied: sympy in c:\\users\\82108\\anaconda3\\lib\\site-packages (from torch) (1.11.1)\n",
      "Requirement already satisfied: jinja2 in c:\\users\\82108\\anaconda3\\lib\\site-packages (from torch) (2.11.3)\n",
      "Requirement already satisfied: filelock in c:\\users\\82108\\anaconda3\\lib\\site-packages (from torch) (3.9.0)\n",
      "Requirement already satisfied: MarkupSafe>=0.23 in c:\\users\\82108\\anaconda3\\lib\\site-packages (from jinja2->torch) (1.1.1)\n",
      "Requirement already satisfied: mpmath>=0.19 in c:\\users\\82108\\anaconda3\\lib\\site-packages (from sympy->torch) (1.2.1)\n"
     ]
    }
   ],
   "source": [
    "!pip install torch"
   ]
  },
  {
   "cell_type": "markdown",
   "id": "4780ec95",
   "metadata": {},
   "source": [
    "## Loading the pre-trained disbert model"
   ]
  },
  {
   "cell_type": "code",
   "execution_count": 19,
   "id": "194580c9",
   "metadata": {},
   "outputs": [
    {
     "data": {
      "text/html": [
       "<div>\n",
       "<style scoped>\n",
       "    .dataframe tbody tr th:only-of-type {\n",
       "        vertical-align: middle;\n",
       "    }\n",
       "\n",
       "    .dataframe tbody tr th {\n",
       "        vertical-align: top;\n",
       "    }\n",
       "\n",
       "    .dataframe thead th {\n",
       "        text-align: right;\n",
       "    }\n",
       "</style>\n",
       "<table border=\"1\" class=\"dataframe\">\n",
       "  <thead>\n",
       "    <tr style=\"text-align: right;\">\n",
       "      <th></th>\n",
       "      <th>sentiment</th>\n",
       "      <th>content</th>\n",
       "    </tr>\n",
       "  </thead>\n",
       "  <tbody>\n",
       "    <tr>\n",
       "      <th>1</th>\n",
       "      <td>2</td>\n",
       "      <td>know listenin bad habit earlier started freaki...</td>\n",
       "    </tr>\n",
       "    <tr>\n",
       "      <th>2</th>\n",
       "      <td>10</td>\n",
       "      <td>layin n bed headache ughhhhwaitin call</td>\n",
       "    </tr>\n",
       "    <tr>\n",
       "      <th>3</th>\n",
       "      <td>10</td>\n",
       "      <td>funeral ceremonygloomy friday</td>\n",
       "    </tr>\n",
       "    <tr>\n",
       "      <th>4</th>\n",
       "      <td>3</td>\n",
       "      <td>want hang friend soon</td>\n",
       "    </tr>\n",
       "    <tr>\n",
       "      <th>5</th>\n",
       "      <td>8</td>\n",
       "      <td>want trade someone houston ticket one</td>\n",
       "    </tr>\n",
       "  </tbody>\n",
       "</table>\n",
       "</div>"
      ],
      "text/plain": [
       "   sentiment                                            content\n",
       "1          2  know listenin bad habit earlier started freaki...\n",
       "2         10             layin n bed headache ughhhhwaitin call\n",
       "3         10                      funeral ceremonygloomy friday\n",
       "4          3                              want hang friend soon\n",
       "5          8              want trade someone houston ticket one"
      ]
     },
     "execution_count": 19,
     "metadata": {},
     "output_type": "execute_result"
    }
   ],
   "source": [
    "df.head()"
   ]
  },
  {
   "cell_type": "code",
   "execution_count": 20,
   "id": "22004509",
   "metadata": {},
   "outputs": [
    {
     "name": "stderr",
     "output_type": "stream",
     "text": [
      "Some weights of the model checkpoint at distilbert-base-uncased were not used when initializing DistilBertModel: ['vocab_transform.bias', 'vocab_layer_norm.bias', 'vocab_projector.bias', 'vocab_layer_norm.weight', 'vocab_projector.weight', 'vocab_transform.weight']\n",
      "- This IS expected if you are initializing DistilBertModel from the checkpoint of a model trained on another task or with another architecture (e.g. initializing a BertForSequenceClassification model from a BertForPreTraining model).\n",
      "- This IS NOT expected if you are initializing DistilBertModel from the checkpoint of a model that you expect to be exactly identical (initializing a BertForSequenceClassification model from a BertForSequenceClassification model).\n"
     ]
    }
   ],
   "source": [
    "import torch\n",
    "import transformers as ppb\n",
    "import warnings\n",
    "warnings.filterwarnings('ignore')\n",
    "\n",
    "model_class, tokenizer_class, pretrained_weights = (ppb.DistilBertModel, ppb.DistilBertTokenizer, 'distilbert-base-uncased')\n",
    "\n",
    "tokenizer = tokenizer_class.from_pretrained(pretrained_weights)\n",
    "model = model_class.from_pretrained(pretrained_weights)"
   ]
  },
  {
   "cell_type": "markdown",
   "id": "fe14b87c",
   "metadata": {},
   "source": [
    "## Stratified sampling을 사용해 데이터크기 축소\n",
    "* 4만개의 행을 가진 데이터로 deep learning을 진행하려고 하다보니 메모리 문제로 자꾸 멈춤이 발생함 -> stratified sampling을 통해 데이터의 크기를 축소시켜 학습함"
   ]
  },
  {
   "cell_type": "code",
   "execution_count": 21,
   "id": "139959db",
   "metadata": {},
   "outputs": [],
   "source": [
    "from sklearn.model_selection import train_test_split\n",
    "\n",
    "x = df[\"content\"]\n",
    "y = df[\"sentiment\"]\n",
    "\n",
    "x_train, _, y_train, _ = train_test_split(x, y, train_size=10000, stratify=y, random_state=42)\n",
    "\n",
    "df_sampled = pd.DataFrame({'content':x_train, 'sentiment':y_train})"
   ]
  },
  {
   "cell_type": "code",
   "execution_count": 22,
   "id": "ab532114",
   "metadata": {},
   "outputs": [
    {
     "data": {
      "text/html": [
       "<div>\n",
       "<style scoped>\n",
       "    .dataframe tbody tr th:only-of-type {\n",
       "        vertical-align: middle;\n",
       "    }\n",
       "\n",
       "    .dataframe tbody tr th {\n",
       "        vertical-align: top;\n",
       "    }\n",
       "\n",
       "    .dataframe thead th {\n",
       "        text-align: right;\n",
       "    }\n",
       "</style>\n",
       "<table border=\"1\" class=\"dataframe\">\n",
       "  <thead>\n",
       "    <tr style=\"text-align: right;\">\n",
       "      <th></th>\n",
       "      <th>content</th>\n",
       "      <th>sentiment</th>\n",
       "    </tr>\n",
       "  </thead>\n",
       "  <tbody>\n",
       "    <tr>\n",
       "      <th>31383</th>\n",
       "      <td>omg found thnx</td>\n",
       "      <td>5</td>\n",
       "    </tr>\n",
       "    <tr>\n",
       "      <th>33253</th>\n",
       "      <td>oops im watching mom son sleeping ing</td>\n",
       "      <td>8</td>\n",
       "    </tr>\n",
       "    <tr>\n",
       "      <th>14926</th>\n",
       "      <td>kno im sad evry leavin horrible im supposed b ...</td>\n",
       "      <td>10</td>\n",
       "    </tr>\n",
       "    <tr>\n",
       "      <th>1860</th>\n",
       "      <td>ever come across something reminds alot one pe...</td>\n",
       "      <td>10</td>\n",
       "    </tr>\n",
       "    <tr>\n",
       "      <th>37840</th>\n",
       "      <td>also try friendly fire havent already heard gr...</td>\n",
       "      <td>5</td>\n",
       "    </tr>\n",
       "    <tr>\n",
       "      <th>...</th>\n",
       "      <td>...</td>\n",
       "      <td>...</td>\n",
       "    </tr>\n",
       "    <tr>\n",
       "      <th>18914</th>\n",
       "      <td>aww dude fair thought point thing</td>\n",
       "      <td>6</td>\n",
       "    </tr>\n",
       "    <tr>\n",
       "      <th>38589</th>\n",
       "      <td>enjoying mommy day</td>\n",
       "      <td>4</td>\n",
       "    </tr>\n",
       "    <tr>\n",
       "      <th>2121</th>\n",
       "      <td>word counting hand hurt</td>\n",
       "      <td>12</td>\n",
       "    </tr>\n",
       "    <tr>\n",
       "      <th>21935</th>\n",
       "      <td>face mask hehe</td>\n",
       "      <td>4</td>\n",
       "    </tr>\n",
       "    <tr>\n",
       "      <th>24321</th>\n",
       "      <td>may th starwarsday via</td>\n",
       "      <td>8</td>\n",
       "    </tr>\n",
       "  </tbody>\n",
       "</table>\n",
       "<p>10000 rows × 2 columns</p>\n",
       "</div>"
      ],
      "text/plain": [
       "                                                 content  sentiment\n",
       "31383                                     omg found thnx          5\n",
       "33253              oops im watching mom son sleeping ing          8\n",
       "14926  kno im sad evry leavin horrible im supposed b ...         10\n",
       "1860   ever come across something reminds alot one pe...         10\n",
       "37840  also try friendly fire havent already heard gr...          5\n",
       "...                                                  ...        ...\n",
       "18914                  aww dude fair thought point thing          6\n",
       "38589                                 enjoying mommy day          4\n",
       "2121                             word counting hand hurt         12\n",
       "21935                                     face mask hehe          4\n",
       "24321                             may th starwarsday via          8\n",
       "\n",
       "[10000 rows x 2 columns]"
      ]
     },
     "execution_count": 22,
     "metadata": {},
     "output_type": "execute_result"
    }
   ],
   "source": [
    "df_sampled"
   ]
  },
  {
   "cell_type": "code",
   "execution_count": 23,
   "id": "424bd7f3",
   "metadata": {},
   "outputs": [
    {
     "data": {
      "text/plain": [
       "12    2180\n",
       "8     1948\n",
       "5     1346\n",
       "10    1322\n",
       "7      987\n",
       "11     552\n",
       "4      474\n",
       "9      390\n",
       "6      344\n",
       "3      193\n",
       "2      188\n",
       "1       48\n",
       "0       28\n",
       "Name: sentiment, dtype: int64"
      ]
     },
     "execution_count": 23,
     "metadata": {},
     "output_type": "execute_result"
    }
   ],
   "source": [
    "df_sampled['sentiment'].value_counts()"
   ]
  },
  {
   "cell_type": "markdown",
   "id": "ba49a622",
   "metadata": {},
   "source": [
    "## Model : preparing the dataset\n",
    "* 문장을 bert 모델에 전달하기 전 필요한 형식으로 변환"
   ]
  },
  {
   "cell_type": "markdown",
   "id": "15646445",
   "metadata": {},
   "source": [
    "### Tokenization"
   ]
  },
  {
   "cell_type": "code",
   "execution_count": 24,
   "id": "6b64366f",
   "metadata": {},
   "outputs": [
    {
     "data": {
      "text/plain": [
       "31383     5\n",
       "33253     8\n",
       "14926    10\n",
       "1860     10\n",
       "37840     5\n",
       "         ..\n",
       "18914     6\n",
       "38589     4\n",
       "2121     12\n",
       "21935     4\n",
       "24321     8\n",
       "Name: sentiment, Length: 10000, dtype: int32"
      ]
     },
     "execution_count": 24,
     "metadata": {},
     "output_type": "execute_result"
    },
    {
     "data": {
      "text/plain": [
       "31383                                       omg found thnx\n",
       "33253                oops im watching mom son sleeping ing\n",
       "14926    kno im sad evry leavin horrible im supposed b ...\n",
       "1860     ever come across something reminds alot one pe...\n",
       "37840    also try friendly fire havent already heard gr...\n",
       "                               ...                        \n",
       "18914                    aww dude fair thought point thing\n",
       "38589                                   enjoying mommy day\n",
       "2121                               word counting hand hurt\n",
       "21935                                       face mask hehe\n",
       "24321                               may th starwarsday via\n",
       "Name: content, Length: 10000, dtype: object"
      ]
     },
     "execution_count": 24,
     "metadata": {},
     "output_type": "execute_result"
    }
   ],
   "source": [
    "labels = df_sampled.loc[:, \"sentiment\"]\n",
    "texts = df_sampled.loc[:, \"content\"]\n",
    "labels\n",
    "texts"
   ]
  },
  {
   "cell_type": "code",
   "execution_count": 25,
   "id": "88683539",
   "metadata": {},
   "outputs": [
    {
     "data": {
      "text/plain": [
       "31383          [101, 18168, 2290, 2179, 16215, 26807, 102]\n",
       "33253    [101, 1051, 11923, 10047, 3666, 3566, 2365, 57...\n",
       "14926    [101, 14161, 2080, 10047, 6517, 23408, 2854, 1...\n",
       "1860     [101, 2412, 2272, 2408, 2242, 15537, 2632, 414...\n",
       "37840    [101, 2036, 3046, 5379, 2543, 4033, 2102, 2525...\n",
       "                               ...                        \n",
       "18914    [101, 22091, 2860, 12043, 4189, 2245, 2391, 25...\n",
       "38589                        [101, 9107, 20565, 2154, 102]\n",
       "2121                   [101, 2773, 10320, 2192, 3480, 102]\n",
       "21935                   [101, 2227, 7308, 2002, 5369, 102]\n",
       "24321    [101, 2089, 16215, 2732, 9028, 16150, 4710, 30...\n",
       "Name: content, Length: 10000, dtype: object"
      ]
     },
     "execution_count": 25,
     "metadata": {},
     "output_type": "execute_result"
    }
   ],
   "source": [
    "tokenized = df_sampled['content'].apply((lambda x: tokenizer.encode(x, add_special_tokens=True)))\n",
    "tokenized"
   ]
  },
  {
   "cell_type": "markdown",
   "id": "c8056254",
   "metadata": {},
   "source": [
    "### Padding"
   ]
  },
  {
   "cell_type": "code",
   "execution_count": 26,
   "id": "eb0ab4f0",
   "metadata": {},
   "outputs": [
    {
     "data": {
      "text/plain": [
       "array([list([101, 18168, 2290, 2179, 16215, 26807, 102]),\n",
       "       list([101, 1051, 11923, 10047, 3666, 3566, 2365, 5777, 13749, 102]),\n",
       "       list([101, 14161, 2080, 10047, 6517, 23408, 2854, 12203, 6371, 9202, 10047, 4011, 1038, 3407, 2621, 2064, 2102, 10047, 2050, 3335, 23408, 2854, 102]),\n",
       "       ..., list([101, 2773, 10320, 2192, 3480, 102]),\n",
       "       list([101, 2227, 7308, 2002, 5369, 102]),\n",
       "       list([101, 2089, 16215, 2732, 9028, 16150, 4710, 3081, 102])],\n",
       "      dtype=object)"
      ]
     },
     "execution_count": 26,
     "metadata": {},
     "output_type": "execute_result"
    }
   ],
   "source": [
    "tokenized.values"
   ]
  },
  {
   "cell_type": "code",
   "execution_count": 27,
   "id": "4393ffc2",
   "metadata": {},
   "outputs": [
    {
     "data": {
      "text/plain": [
       "array([[  101, 18168,  2290, ...,     0,     0,     0],\n",
       "       [  101,  1051, 11923, ...,     0,     0,     0],\n",
       "       [  101, 14161,  2080, ...,     0,     0,     0],\n",
       "       ...,\n",
       "       [  101,  2773, 10320, ...,     0,     0,     0],\n",
       "       [  101,  2227,  7308, ...,     0,     0,     0],\n",
       "       [  101,  2089, 16215, ...,     0,     0,     0]])"
      ]
     },
     "execution_count": 27,
     "metadata": {},
     "output_type": "execute_result"
    }
   ],
   "source": [
    "max_len = 0\n",
    "for i in tokenized.values:\n",
    "    if len(i) > max_len:\n",
    "        max_len = len(i)\n",
    "\n",
    "#가장 긴 문장의 len을 구하고, 짧은 문장들은 뒤에 0을 추가해서 padding 진행\n",
    "padded = np.array([i + [0]*(max_len-len(i)) for i in tokenized.values])\n",
    "padded"
   ]
  },
  {
   "cell_type": "code",
   "execution_count": 28,
   "id": "ef4489ab",
   "metadata": {},
   "outputs": [
    {
     "data": {
      "text/plain": [
       "(10000, 38)"
      ]
     },
     "execution_count": 28,
     "metadata": {},
     "output_type": "execute_result"
    }
   ],
   "source": [
    "np.array(padded).shape"
   ]
  },
  {
   "cell_type": "markdown",
   "id": "087841ec",
   "metadata": {},
   "source": [
    "### Masking"
   ]
  },
  {
   "cell_type": "code",
   "execution_count": 29,
   "id": "1d64ba49",
   "metadata": {},
   "outputs": [
    {
     "data": {
      "text/plain": [
       "(10000, 38)"
      ]
     },
     "execution_count": 29,
     "metadata": {},
     "output_type": "execute_result"
    }
   ],
   "source": [
    "attention_mask = np.where(padded != 0, 1, 0)\n",
    "attention_mask.shape"
   ]
  },
  {
   "cell_type": "code",
   "execution_count": 30,
   "id": "05958468",
   "metadata": {},
   "outputs": [
    {
     "data": {
      "text/plain": [
       "array([[1, 1, 1, ..., 0, 0, 0],\n",
       "       [1, 1, 1, ..., 0, 0, 0],\n",
       "       [1, 1, 1, ..., 0, 0, 0],\n",
       "       ...,\n",
       "       [1, 1, 1, ..., 0, 0, 0],\n",
       "       [1, 1, 1, ..., 0, 0, 0],\n",
       "       [1, 1, 1, ..., 0, 0, 0]])"
      ]
     },
     "execution_count": 30,
     "metadata": {},
     "output_type": "execute_result"
    }
   ],
   "source": [
    "attention_mask"
   ]
  },
  {
   "cell_type": "markdown",
   "id": "0207b91c",
   "metadata": {},
   "source": [
    "## Deep learning"
   ]
  },
  {
   "cell_type": "code",
   "execution_count": 31,
   "id": "f3db6f64",
   "metadata": {},
   "outputs": [],
   "source": [
    "input_ids = torch.tensor(padded)  \n",
    "attention_mask = torch.tensor(attention_mask)"
   ]
  },
  {
   "cell_type": "code",
   "execution_count": 32,
   "id": "13686473",
   "metadata": {},
   "outputs": [
    {
     "name": "stdout",
     "output_type": "stream",
     "text": [
      "실행시간 : 516.25초\n"
     ]
    }
   ],
   "source": [
    "import time\n",
    "\n",
    "start_time = time.time()\n",
    "\n",
    "with torch.no_grad():\n",
    "    last_hidden_states = model(input_ids, attention_mask=attention_mask)\n",
    "    \n",
    "\n",
    "end_time = time.time()\n",
    "\n",
    "execution_time = end_time - start_time\n",
    "print(\"실행시간 : {:.2f}초\".format(execution_time))"
   ]
  },
  {
   "cell_type": "code",
   "execution_count": 33,
   "id": "7ba9e3c6",
   "metadata": {},
   "outputs": [
    {
     "data": {
      "text/plain": [
       "BaseModelOutput(last_hidden_state=tensor([[[-0.2119, -0.0429,  0.0134,  ...,  0.0016,  0.2919,  0.3347],\n",
       "         [-0.2285, -0.0771,  0.2305,  ..., -0.2790,  0.4037,  0.6434],\n",
       "         [-0.2066, -0.2901,  0.3833,  ..., -0.2589,  0.0803,  0.5664],\n",
       "         ...,\n",
       "         [-0.1814, -0.3061,  0.0914,  ...,  0.4309, -0.2672,  0.2827],\n",
       "         [-0.1648, -0.1960,  0.0909,  ...,  0.3828, -0.1762,  0.3305],\n",
       "         [-0.1868, -0.1554,  0.1009,  ...,  0.3504, -0.1224,  0.3267]],\n",
       "\n",
       "        [[-0.2241,  0.2844,  0.1016,  ..., -0.1495,  0.3913,  0.4542],\n",
       "         [-0.6740,  0.8077,  0.4433,  ...,  0.0297,  0.6494,  0.2652],\n",
       "         [-0.2993,  0.4834,  0.5944,  ..., -0.2159,  0.2872,  0.3982],\n",
       "         ...,\n",
       "         [ 0.0412,  0.0990,  0.5274,  ..., -0.2102,  0.0435,  0.1350],\n",
       "         [-0.0976,  0.2543,  0.4701,  ..., -0.1508,  0.0746,  0.1171],\n",
       "         [ 0.1394,  0.2586,  0.4294,  ..., -0.1421, -0.0988, -0.0767]],\n",
       "\n",
       "        [[-0.3373,  0.0586,  0.1206,  ..., -0.1060,  0.2444,  0.5299],\n",
       "         [-0.4679,  0.2288,  0.7018,  ...,  0.0090,  0.5424,  0.1029],\n",
       "         [-0.8925,  0.2072,  0.4522,  ..., -0.4207, -0.2298,  0.3141],\n",
       "         ...,\n",
       "         [-0.2086,  0.0719,  0.3592,  ..., -0.0648,  0.1394,  0.1804],\n",
       "         [-0.0529,  0.0275,  0.2426,  ..., -0.0929, -0.0309,  0.1999],\n",
       "         [-0.0697, -0.0651,  0.1502,  ..., -0.0025, -0.0025,  0.2161]],\n",
       "\n",
       "        ...,\n",
       "\n",
       "        [[-0.1839,  0.0559, -0.0174,  ..., -0.1196,  0.1154,  0.2625],\n",
       "         [-0.0576,  0.0134,  0.1096,  ...,  0.0204,  0.2203, -0.1101],\n",
       "         [ 0.1826,  0.1252,  0.2723,  ..., -0.2391, -0.0417,  0.2653],\n",
       "         ...,\n",
       "         [-0.0632,  0.0971,  0.0672,  ...,  0.0968, -0.1366,  0.0922],\n",
       "         [-0.0468,  0.0959,  0.0640,  ...,  0.0789, -0.1008,  0.0824],\n",
       "         [-0.0760,  0.1053,  0.0682,  ...,  0.0772, -0.1026,  0.0656]],\n",
       "\n",
       "        [[-0.3363,  0.0256,  0.0263,  ..., -0.2763,  0.2538,  0.2682],\n",
       "         [ 0.2549,  0.2456,  0.0898,  ..., -0.3794,  0.5329,  0.1628],\n",
       "         [ 0.0206,  0.1812,  0.0127,  ..., -0.3597, -0.1127,  0.0927],\n",
       "         ...,\n",
       "         [ 0.0857,  0.1772,  0.1870,  ..., -0.1033,  0.0173,  0.0827],\n",
       "         [ 0.0420,  0.1628,  0.1672,  ..., -0.0903,  0.0417,  0.0896],\n",
       "         [ 0.0182,  0.1679,  0.1673,  ..., -0.0782,  0.0451,  0.0754]],\n",
       "\n",
       "        [[-0.1427, -0.0785,  0.1573,  ..., -0.1420,  0.2422,  0.3885],\n",
       "         [-0.3612,  0.3661,  0.4290,  ..., -0.1565,  0.3249, -0.2009],\n",
       "         [ 0.1279,  0.1820,  1.0047,  ..., -0.2034,  0.0027,  0.6777],\n",
       "         ...,\n",
       "         [-0.0280,  0.2008,  0.6128,  ...,  0.1869, -0.1575, -0.3132],\n",
       "         [ 0.1992,  0.0267,  0.4609,  ...,  0.1013, -0.1669,  0.2522],\n",
       "         [ 0.0300, -0.1926,  0.3670,  ...,  0.0793, -0.1490,  0.1377]]]), hidden_states=None, attentions=None)"
      ]
     },
     "execution_count": 33,
     "metadata": {},
     "output_type": "execute_result"
    }
   ],
   "source": [
    "last_hidden_states"
   ]
  },
  {
   "cell_type": "code",
   "execution_count": 34,
   "id": "934f2412",
   "metadata": {},
   "outputs": [
    {
     "data": {
      "text/plain": [
       "array([[-0.21191911, -0.04289247,  0.01343757, ...,  0.00156489,\n",
       "         0.29187402,  0.3347061 ],\n",
       "       [-0.22407512,  0.2843564 ,  0.10162087, ..., -0.14951074,\n",
       "         0.391261  ,  0.45423722],\n",
       "       [-0.3373264 ,  0.0586202 ,  0.12055573, ..., -0.10601999,\n",
       "         0.24438483,  0.52985346],\n",
       "       ...,\n",
       "       [-0.18393019,  0.05592763, -0.01737488, ..., -0.11962318,\n",
       "         0.11541695,  0.2624903 ],\n",
       "       [-0.33627108,  0.02564908,  0.02634172, ..., -0.27634075,\n",
       "         0.2537778 ,  0.2681966 ],\n",
       "       [-0.14268517, -0.07849107,  0.15727296, ..., -0.14197187,\n",
       "         0.24223775,  0.38847092]], dtype=float32)"
      ]
     },
     "execution_count": 34,
     "metadata": {},
     "output_type": "execute_result"
    }
   ],
   "source": [
    "features = last_hidden_states[0][:,0,:].numpy()\n",
    "features"
   ]
  },
  {
   "cell_type": "code",
   "execution_count": 35,
   "id": "fe750470",
   "metadata": {},
   "outputs": [
    {
     "data": {
      "text/plain": [
       "31383     5\n",
       "33253     8\n",
       "14926    10\n",
       "1860     10\n",
       "37840     5\n",
       "         ..\n",
       "18914     6\n",
       "38589     4\n",
       "2121     12\n",
       "21935     4\n",
       "24321     8\n",
       "Name: sentiment, Length: 10000, dtype: int32"
      ]
     },
     "execution_count": 35,
     "metadata": {},
     "output_type": "execute_result"
    }
   ],
   "source": [
    "labels=df_sampled[\"sentiment\"]\n",
    "labels"
   ]
  },
  {
   "cell_type": "markdown",
   "id": "603021e9",
   "metadata": {},
   "source": [
    "## Train/Test split & LogisticRegression"
   ]
  },
  {
   "cell_type": "code",
   "execution_count": 36,
   "id": "95efbd61",
   "metadata": {},
   "outputs": [
    {
     "data": {
      "text/plain": [
       "((7500, 768), (2500, 768), (7500,), (2500,))"
      ]
     },
     "execution_count": 36,
     "metadata": {},
     "output_type": "execute_result"
    }
   ],
   "source": [
    "x_train, x_test, y_train,  y_test = train_test_split(features, labels)\n",
    "x_train.shape, x_test.shape, y_train.shape, y_test.shape"
   ]
  },
  {
   "cell_type": "code",
   "execution_count": 37,
   "id": "c67d4b45",
   "metadata": {},
   "outputs": [
    {
     "data": {
      "text/html": [
       "<style>#sk-container-id-1 {color: black;background-color: white;}#sk-container-id-1 pre{padding: 0;}#sk-container-id-1 div.sk-toggleable {background-color: white;}#sk-container-id-1 label.sk-toggleable__label {cursor: pointer;display: block;width: 100%;margin-bottom: 0;padding: 0.3em;box-sizing: border-box;text-align: center;}#sk-container-id-1 label.sk-toggleable__label-arrow:before {content: \"▸\";float: left;margin-right: 0.25em;color: #696969;}#sk-container-id-1 label.sk-toggleable__label-arrow:hover:before {color: black;}#sk-container-id-1 div.sk-estimator:hover label.sk-toggleable__label-arrow:before {color: black;}#sk-container-id-1 div.sk-toggleable__content {max-height: 0;max-width: 0;overflow: hidden;text-align: left;background-color: #f0f8ff;}#sk-container-id-1 div.sk-toggleable__content pre {margin: 0.2em;color: black;border-radius: 0.25em;background-color: #f0f8ff;}#sk-container-id-1 input.sk-toggleable__control:checked~div.sk-toggleable__content {max-height: 200px;max-width: 100%;overflow: auto;}#sk-container-id-1 input.sk-toggleable__control:checked~label.sk-toggleable__label-arrow:before {content: \"▾\";}#sk-container-id-1 div.sk-estimator input.sk-toggleable__control:checked~label.sk-toggleable__label {background-color: #d4ebff;}#sk-container-id-1 div.sk-label input.sk-toggleable__control:checked~label.sk-toggleable__label {background-color: #d4ebff;}#sk-container-id-1 input.sk-hidden--visually {border: 0;clip: rect(1px 1px 1px 1px);clip: rect(1px, 1px, 1px, 1px);height: 1px;margin: -1px;overflow: hidden;padding: 0;position: absolute;width: 1px;}#sk-container-id-1 div.sk-estimator {font-family: monospace;background-color: #f0f8ff;border: 1px dotted black;border-radius: 0.25em;box-sizing: border-box;margin-bottom: 0.5em;}#sk-container-id-1 div.sk-estimator:hover {background-color: #d4ebff;}#sk-container-id-1 div.sk-parallel-item::after {content: \"\";width: 100%;border-bottom: 1px solid gray;flex-grow: 1;}#sk-container-id-1 div.sk-label:hover label.sk-toggleable__label {background-color: #d4ebff;}#sk-container-id-1 div.sk-serial::before {content: \"\";position: absolute;border-left: 1px solid gray;box-sizing: border-box;top: 0;bottom: 0;left: 50%;z-index: 0;}#sk-container-id-1 div.sk-serial {display: flex;flex-direction: column;align-items: center;background-color: white;padding-right: 0.2em;padding-left: 0.2em;position: relative;}#sk-container-id-1 div.sk-item {position: relative;z-index: 1;}#sk-container-id-1 div.sk-parallel {display: flex;align-items: stretch;justify-content: center;background-color: white;position: relative;}#sk-container-id-1 div.sk-item::before, #sk-container-id-1 div.sk-parallel-item::before {content: \"\";position: absolute;border-left: 1px solid gray;box-sizing: border-box;top: 0;bottom: 0;left: 50%;z-index: -1;}#sk-container-id-1 div.sk-parallel-item {display: flex;flex-direction: column;z-index: 1;position: relative;background-color: white;}#sk-container-id-1 div.sk-parallel-item:first-child::after {align-self: flex-end;width: 50%;}#sk-container-id-1 div.sk-parallel-item:last-child::after {align-self: flex-start;width: 50%;}#sk-container-id-1 div.sk-parallel-item:only-child::after {width: 0;}#sk-container-id-1 div.sk-dashed-wrapped {border: 1px dashed gray;margin: 0 0.4em 0.5em 0.4em;box-sizing: border-box;padding-bottom: 0.4em;background-color: white;}#sk-container-id-1 div.sk-label label {font-family: monospace;font-weight: bold;display: inline-block;line-height: 1.2em;}#sk-container-id-1 div.sk-label-container {text-align: center;}#sk-container-id-1 div.sk-container {/* jupyter's `normalize.less` sets `[hidden] { display: none; }` but bootstrap.min.css set `[hidden] { display: none !important; }` so we also need the `!important` here to be able to override the default hidden behavior on the sphinx rendered scikit-learn.org. See: https://github.com/scikit-learn/scikit-learn/issues/21755 */display: inline-block !important;position: relative;}#sk-container-id-1 div.sk-text-repr-fallback {display: none;}</style><div id=\"sk-container-id-1\" class=\"sk-top-container\"><div class=\"sk-text-repr-fallback\"><pre>LogisticRegression(solver=&#x27;liblinear&#x27;)</pre><b>In a Jupyter environment, please rerun this cell to show the HTML representation or trust the notebook. <br />On GitHub, the HTML representation is unable to render, please try loading this page with nbviewer.org.</b></div><div class=\"sk-container\" hidden><div class=\"sk-item\"><div class=\"sk-estimator sk-toggleable\"><input class=\"sk-toggleable__control sk-hidden--visually\" id=\"sk-estimator-id-1\" type=\"checkbox\" checked><label for=\"sk-estimator-id-1\" class=\"sk-toggleable__label sk-toggleable__label-arrow\">LogisticRegression</label><div class=\"sk-toggleable__content\"><pre>LogisticRegression(solver=&#x27;liblinear&#x27;)</pre></div></div></div></div></div>"
      ],
      "text/plain": [
       "LogisticRegression(solver='liblinear')"
      ]
     },
     "execution_count": 37,
     "metadata": {},
     "output_type": "execute_result"
    }
   ],
   "source": [
    "from sklearn.linear_model import LogisticRegression\n",
    "\n",
    "lr = LogisticRegression(solver='liblinear')\n",
    "lr.fit(x_train, y_train)"
   ]
  },
  {
   "cell_type": "code",
   "execution_count": 38,
   "id": "af75488c",
   "metadata": {},
   "outputs": [
    {
     "data": {
      "text/plain": [
       "array([12,  5,  5, ...,  6,  8,  5])"
      ]
     },
     "execution_count": 38,
     "metadata": {},
     "output_type": "execute_result"
    }
   ],
   "source": [
    "pred = lr.predict(x_test)\n",
    "pred"
   ]
  },
  {
   "cell_type": "markdown",
   "id": "b745aef6",
   "metadata": {},
   "source": [
    "## Evaluating"
   ]
  },
  {
   "cell_type": "code",
   "execution_count": 39,
   "id": "aaf263c5",
   "metadata": {},
   "outputs": [
    {
     "data": {
      "text/plain": [
       "0.322"
      ]
     },
     "execution_count": 39,
     "metadata": {},
     "output_type": "execute_result"
    }
   ],
   "source": [
    "lr.score(x_test, y_test)"
   ]
  },
  {
   "cell_type": "code",
   "execution_count": 40,
   "id": "247fe8a7",
   "metadata": {},
   "outputs": [
    {
     "name": "stdout",
     "output_type": "stream",
     "text": [
      "Accuracy: 0.322\n",
      "Precision: 0.1647537115056242\n",
      "Recall: 0.15962835318492952\n",
      "F1 Score: 0.15301426150447464\n"
     ]
    }
   ],
   "source": [
    "from sklearn.metrics import accuracy_score, confusion_matrix, precision_score, recall_score, f1_score\n",
    "\n",
    "#accuracy\n",
    "accuracy = accuracy_score(y_test, pred)\n",
    "#precision\n",
    "precision = precision_score(y_test, pred, average='macro')\n",
    "#recall\n",
    "recall = recall_score(y_test, pred, average='macro')\n",
    "#f1_score\n",
    "f1 = f1_score(y_test, pred, average='macro')\n",
    "\n",
    "print(f\"Accuracy: {accuracy}\")\n",
    "print(f\"Precision: {precision}\")\n",
    "print(f\"Recall: {recall}\")\n",
    "print(f\"F1 Score: {f1}\")"
   ]
  },
  {
   "cell_type": "code",
   "execution_count": 41,
   "id": "366c9efa",
   "metadata": {},
   "outputs": [
    {
     "name": "stdout",
     "output_type": "stream",
     "text": [
      "Accuracy: 0.322\n"
     ]
    }
   ],
   "source": [
    "from sklearn.metrics import accuracy_score, confusion_matrix, precision_score, recall_score, f1_score\n",
    "\n",
    "#accuracy\n",
    "accuracy = accuracy_score(y_test, pred)\n",
    "print(f\"Accuracy: {accuracy}\")"
   ]
  },
  {
   "cell_type": "markdown",
   "id": "b861f366",
   "metadata": {},
   "source": [
    "# 성능향상"
   ]
  },
  {
   "cell_type": "code",
   "execution_count": 42,
   "id": "e4f169e3",
   "metadata": {},
   "outputs": [
    {
     "data": {
      "text/html": [
       "<div>\n",
       "<style scoped>\n",
       "    .dataframe tbody tr th:only-of-type {\n",
       "        vertical-align: middle;\n",
       "    }\n",
       "\n",
       "    .dataframe tbody tr th {\n",
       "        vertical-align: top;\n",
       "    }\n",
       "\n",
       "    .dataframe thead th {\n",
       "        text-align: right;\n",
       "    }\n",
       "</style>\n",
       "<table border=\"1\" class=\"dataframe\">\n",
       "  <thead>\n",
       "    <tr style=\"text-align: right;\">\n",
       "      <th></th>\n",
       "      <th>sentiment</th>\n",
       "      <th>content</th>\n",
       "    </tr>\n",
       "  </thead>\n",
       "  <tbody>\n",
       "    <tr>\n",
       "      <th>1</th>\n",
       "      <td>2</td>\n",
       "      <td>know listenin bad habit earlier started freaki...</td>\n",
       "    </tr>\n",
       "    <tr>\n",
       "      <th>2</th>\n",
       "      <td>10</td>\n",
       "      <td>layin n bed headache ughhhhwaitin call</td>\n",
       "    </tr>\n",
       "    <tr>\n",
       "      <th>3</th>\n",
       "      <td>10</td>\n",
       "      <td>funeral ceremonygloomy friday</td>\n",
       "    </tr>\n",
       "    <tr>\n",
       "      <th>4</th>\n",
       "      <td>3</td>\n",
       "      <td>want hang friend soon</td>\n",
       "    </tr>\n",
       "    <tr>\n",
       "      <th>5</th>\n",
       "      <td>8</td>\n",
       "      <td>want trade someone houston ticket one</td>\n",
       "    </tr>\n",
       "  </tbody>\n",
       "</table>\n",
       "</div>"
      ],
      "text/plain": [
       "   sentiment                                            content\n",
       "1          2  know listenin bad habit earlier started freaki...\n",
       "2         10             layin n bed headache ughhhhwaitin call\n",
       "3         10                      funeral ceremonygloomy friday\n",
       "4          3                              want hang friend soon\n",
       "5          8              want trade someone houston ticket one"
      ]
     },
     "execution_count": 42,
     "metadata": {},
     "output_type": "execute_result"
    }
   ],
   "source": [
    "df.head() "
   ]
  },
  {
   "cell_type": "code",
   "execution_count": 43,
   "id": "cb185086",
   "metadata": {},
   "outputs": [],
   "source": [
    "df['sentiment'] = le.inverse_transform(df['sentiment'])"
   ]
  },
  {
   "cell_type": "code",
   "execution_count": 44,
   "id": "4e7d7d3b",
   "metadata": {},
   "outputs": [
    {
     "data": {
      "text/html": [
       "<div>\n",
       "<style scoped>\n",
       "    .dataframe tbody tr th:only-of-type {\n",
       "        vertical-align: middle;\n",
       "    }\n",
       "\n",
       "    .dataframe tbody tr th {\n",
       "        vertical-align: top;\n",
       "    }\n",
       "\n",
       "    .dataframe thead th {\n",
       "        text-align: right;\n",
       "    }\n",
       "</style>\n",
       "<table border=\"1\" class=\"dataframe\">\n",
       "  <thead>\n",
       "    <tr style=\"text-align: right;\">\n",
       "      <th></th>\n",
       "      <th>sentiment</th>\n",
       "      <th>content</th>\n",
       "    </tr>\n",
       "  </thead>\n",
       "  <tbody>\n",
       "    <tr>\n",
       "      <th>1</th>\n",
       "      <td>empty</td>\n",
       "      <td>know listenin bad habit earlier started freaki...</td>\n",
       "    </tr>\n",
       "    <tr>\n",
       "      <th>2</th>\n",
       "      <td>sadness</td>\n",
       "      <td>layin n bed headache ughhhhwaitin call</td>\n",
       "    </tr>\n",
       "    <tr>\n",
       "      <th>3</th>\n",
       "      <td>sadness</td>\n",
       "      <td>funeral ceremonygloomy friday</td>\n",
       "    </tr>\n",
       "    <tr>\n",
       "      <th>4</th>\n",
       "      <td>enthusiasm</td>\n",
       "      <td>want hang friend soon</td>\n",
       "    </tr>\n",
       "    <tr>\n",
       "      <th>5</th>\n",
       "      <td>neutral</td>\n",
       "      <td>want trade someone houston ticket one</td>\n",
       "    </tr>\n",
       "  </tbody>\n",
       "</table>\n",
       "</div>"
      ],
      "text/plain": [
       "    sentiment                                            content\n",
       "1       empty  know listenin bad habit earlier started freaki...\n",
       "2     sadness             layin n bed headache ughhhhwaitin call\n",
       "3     sadness                      funeral ceremonygloomy friday\n",
       "4  enthusiasm                              want hang friend soon\n",
       "5     neutral              want trade someone houston ticket one"
      ]
     },
     "execution_count": 44,
     "metadata": {},
     "output_type": "execute_result"
    }
   ],
   "source": [
    "df.head()"
   ]
  },
  {
   "cell_type": "code",
   "execution_count": 45,
   "id": "1e9d95e3",
   "metadata": {},
   "outputs": [
    {
     "data": {
      "text/html": [
       "<div>\n",
       "<style scoped>\n",
       "    .dataframe tbody tr th:only-of-type {\n",
       "        vertical-align: middle;\n",
       "    }\n",
       "\n",
       "    .dataframe tbody tr th {\n",
       "        vertical-align: top;\n",
       "    }\n",
       "\n",
       "    .dataframe thead th {\n",
       "        text-align: right;\n",
       "    }\n",
       "</style>\n",
       "<table border=\"1\" class=\"dataframe\">\n",
       "  <thead>\n",
       "    <tr style=\"text-align: right;\">\n",
       "      <th></th>\n",
       "      <th>sentiment</th>\n",
       "      <th>content</th>\n",
       "    </tr>\n",
       "  </thead>\n",
       "  <tbody>\n",
       "    <tr>\n",
       "      <th>1</th>\n",
       "      <td>empty</td>\n",
       "      <td>know listenin bad habit earlier started freaki...</td>\n",
       "    </tr>\n",
       "    <tr>\n",
       "      <th>2</th>\n",
       "      <td>sadness</td>\n",
       "      <td>layin n bed headache ughhhhwaitin call</td>\n",
       "    </tr>\n",
       "    <tr>\n",
       "      <th>3</th>\n",
       "      <td>sadness</td>\n",
       "      <td>funeral ceremonygloomy friday</td>\n",
       "    </tr>\n",
       "    <tr>\n",
       "      <th>4</th>\n",
       "      <td>enthusiasm</td>\n",
       "      <td>want hang friend soon</td>\n",
       "    </tr>\n",
       "    <tr>\n",
       "      <th>5</th>\n",
       "      <td>neutral</td>\n",
       "      <td>want trade someone houston ticket one</td>\n",
       "    </tr>\n",
       "  </tbody>\n",
       "</table>\n",
       "</div>"
      ],
      "text/plain": [
       "    sentiment                                            content\n",
       "1       empty  know listenin bad habit earlier started freaki...\n",
       "2     sadness             layin n bed headache ughhhhwaitin call\n",
       "3     sadness                      funeral ceremonygloomy friday\n",
       "4  enthusiasm                              want hang friend soon\n",
       "5     neutral              want trade someone houston ticket one"
      ]
     },
     "execution_count": 45,
     "metadata": {},
     "output_type": "execute_result"
    }
   ],
   "source": [
    "df2 = df\n",
    "df2.head()"
   ]
  },
  {
   "cell_type": "markdown",
   "id": "60055ff9",
   "metadata": {},
   "source": [
    "## Reducing categories"
   ]
  },
  {
   "cell_type": "code",
   "execution_count": 46,
   "id": "d7a25ee6",
   "metadata": {},
   "outputs": [
    {
     "data": {
      "text/plain": [
       "worry         7795\n",
       "neutral       6966\n",
       "happiness     4812\n",
       "sadness       4725\n",
       "love          3528\n",
       "surprise      1975\n",
       "fun           1696\n",
       "relief        1394\n",
       "hate          1229\n",
       "enthusiasm     691\n",
       "empty          671\n",
       "boredom        170\n",
       "anger          100\n",
       "Name: sentiment, dtype: int64"
      ]
     },
     "execution_count": 46,
     "metadata": {},
     "output_type": "execute_result"
    }
   ],
   "source": [
    "df2['sentiment'].value_counts()"
   ]
  },
  {
   "cell_type": "code",
   "execution_count": 47,
   "id": "e4c66399",
   "metadata": {},
   "outputs": [],
   "source": [
    "def categorization(sentiment):\n",
    "    if sentiment in ['happiness', 'love', 'fun', 'relief', 'enthusiasm']:\n",
    "        return 'positive'\n",
    "    elif sentiment in ['worry', 'sadness', 'hate', 'anger']:\n",
    "        return 'negative'\n",
    "    elif sentiment == 'neutral':\n",
    "        return 'neutral'\n",
    "    elif sentiment in ['empty', 'boredom']:\n",
    "        return 'empty/boredom' #두 감정 모두 감정적인 반응을 보이지 않음 (흥미가 없다거나 감정적으로 무감각)\n",
    "    elif sentiment == 'surprise':\n",
    "        return 'surprise' #surprise는 긍정이 될 수도, 부정이 될 수도 있으므로 단독\n",
    "    else:\n",
    "        return 'unknown'"
   ]
  },
  {
   "cell_type": "code",
   "execution_count": 48,
   "id": "24cfee2c",
   "metadata": {},
   "outputs": [
    {
     "data": {
      "text/html": [
       "<div>\n",
       "<style scoped>\n",
       "    .dataframe tbody tr th:only-of-type {\n",
       "        vertical-align: middle;\n",
       "    }\n",
       "\n",
       "    .dataframe tbody tr th {\n",
       "        vertical-align: top;\n",
       "    }\n",
       "\n",
       "    .dataframe thead th {\n",
       "        text-align: right;\n",
       "    }\n",
       "</style>\n",
       "<table border=\"1\" class=\"dataframe\">\n",
       "  <thead>\n",
       "    <tr style=\"text-align: right;\">\n",
       "      <th></th>\n",
       "      <th>sentiment</th>\n",
       "      <th>content</th>\n",
       "    </tr>\n",
       "  </thead>\n",
       "  <tbody>\n",
       "    <tr>\n",
       "      <th>1</th>\n",
       "      <td>empty/boredom</td>\n",
       "      <td>know listenin bad habit earlier started freaki...</td>\n",
       "    </tr>\n",
       "    <tr>\n",
       "      <th>2</th>\n",
       "      <td>negative</td>\n",
       "      <td>layin n bed headache ughhhhwaitin call</td>\n",
       "    </tr>\n",
       "    <tr>\n",
       "      <th>3</th>\n",
       "      <td>negative</td>\n",
       "      <td>funeral ceremonygloomy friday</td>\n",
       "    </tr>\n",
       "    <tr>\n",
       "      <th>4</th>\n",
       "      <td>positive</td>\n",
       "      <td>want hang friend soon</td>\n",
       "    </tr>\n",
       "    <tr>\n",
       "      <th>5</th>\n",
       "      <td>neutral</td>\n",
       "      <td>want trade someone houston ticket one</td>\n",
       "    </tr>\n",
       "  </tbody>\n",
       "</table>\n",
       "</div>"
      ],
      "text/plain": [
       "       sentiment                                            content\n",
       "1  empty/boredom  know listenin bad habit earlier started freaki...\n",
       "2       negative             layin n bed headache ughhhhwaitin call\n",
       "3       negative                      funeral ceremonygloomy friday\n",
       "4       positive                              want hang friend soon\n",
       "5        neutral              want trade someone houston ticket one"
      ]
     },
     "execution_count": 48,
     "metadata": {},
     "output_type": "execute_result"
    }
   ],
   "source": [
    "df2['sentiment'] = df2['sentiment'].apply(categorization)\n",
    "df2.head()"
   ]
  },
  {
   "cell_type": "code",
   "execution_count": 49,
   "id": "c99c3969",
   "metadata": {},
   "outputs": [
    {
     "data": {
      "text/plain": [
       "<Figure size 1200x600 with 0 Axes>"
      ]
     },
     "execution_count": 49,
     "metadata": {},
     "output_type": "execute_result"
    },
    {
     "data": {
      "text/plain": [
       "<AxesSubplot:xlabel='count', ylabel='sentiment'>"
      ]
     },
     "execution_count": 49,
     "metadata": {},
     "output_type": "execute_result"
    },
    {
     "data": {
      "image/png": "[encoded data removed]",
      "text/plain": [
       "<Figure size 1200x600 with 1 Axes>"
      ]
     },
     "metadata": {},
     "output_type": "display_data"
    }
   ],
   "source": [
    "plt.figure(figsize=(12,6))\n",
    "sns.countplot(y='sentiment', data=df2, order = df2['sentiment'].value_counts().index)"
   ]
  },
  {
   "cell_type": "markdown",
   "id": "a30d1458",
   "metadata": {},
   "source": [
    "## Stratified sampling"
   ]
  },
  {
   "cell_type": "code",
   "execution_count": 50,
   "id": "e6767c19",
   "metadata": {},
   "outputs": [],
   "source": [
    "x = df2[\"content\"]\n",
    "y = df2[\"sentiment\"]\n",
    "\n",
    "x_train, _, y_train, _ = train_test_split(x, y, train_size=10000, stratify=y, random_state=42)\n",
    "\n",
    "df_sampled2 = pd.DataFrame({'content':x_train, 'sentiment':y_train})"
   ]
  },
  {
   "cell_type": "code",
   "execution_count": 51,
   "id": "8b3b9c2e",
   "metadata": {},
   "outputs": [
    {
     "data": {
      "text/plain": [
       "negative         3874\n",
       "positive         3390\n",
       "neutral          1949\n",
       "surprise          552\n",
       "empty/boredom     235\n",
       "Name: sentiment, dtype: int64"
      ]
     },
     "execution_count": 51,
     "metadata": {},
     "output_type": "execute_result"
    }
   ],
   "source": [
    "df_sampled2['sentiment'].value_counts()"
   ]
  },
  {
   "cell_type": "markdown",
   "id": "46692337",
   "metadata": {},
   "source": [
    "## Preparing dataset - distilbert"
   ]
  },
  {
   "cell_type": "code",
   "execution_count": 52,
   "id": "feeceb85",
   "metadata": {},
   "outputs": [
    {
     "data": {
      "text/plain": [
       "5459      neutral\n",
       "36069    negative\n",
       "34623     neutral\n",
       "24877    positive\n",
       "12762    surprise\n",
       "           ...   \n",
       "10398    negative\n",
       "21383     neutral\n",
       "79       negative\n",
       "18453    negative\n",
       "13585    positive\n",
       "Name: sentiment, Length: 10000, dtype: object"
      ]
     },
     "execution_count": 52,
     "metadata": {},
     "output_type": "execute_result"
    },
    {
     "data": {
      "text/plain": [
       "5459         ok im frustrated hella dust screen blackberry\n",
       "36069                                     happy mother day\n",
       "34623                   juice didntb even let use computer\n",
       "24877    eventful weekend nice week looking forward fin...\n",
       "12762                              dude wannnnaaaa goooooo\n",
       "                               ...                        \n",
       "10398                                    feel crappy today\n",
       "21383       think thats muji stabilo eyeing mine last week\n",
       "79                   sad shin ae got marriedand wasnt alex\n",
       "18453    im hangin cousin holly tlkin grandparent phone...\n",
       "13585                             awwwwwwww man baby dried\n",
       "Name: content, Length: 10000, dtype: object"
      ]
     },
     "execution_count": 52,
     "metadata": {},
     "output_type": "execute_result"
    }
   ],
   "source": [
    "labels = df_sampled2.loc[:, \"sentiment\"]\n",
    "texts = df_sampled2.loc[:, \"content\"]\n",
    "labels\n",
    "texts"
   ]
  },
  {
   "cell_type": "code",
   "execution_count": 53,
   "id": "f92244fc",
   "metadata": {},
   "outputs": [],
   "source": [
    "#tokenization\n",
    "tokenized = df_sampled2['content'].apply((lambda x: tokenizer.encode(x, add_special_tokens=True)))\n",
    "\n",
    "#padding\n",
    "max_len = 0\n",
    "for i in tokenized.values:\n",
    "    if len(i) > max_len:\n",
    "        max_len = len(i)\n",
    "\n",
    "#가장 긴 문장의 len을 구하고, 짧은 문장들은 뒤에 0을 추가해서 padding 진행\n",
    "padded = np.array([i + [0]*(max_len-len(i)) for i in tokenized.values])\n",
    "\n",
    "#masking\n",
    "attention_mask = np.where(padded != 0, 1, 0)"
   ]
  },
  {
   "cell_type": "code",
   "execution_count": 54,
   "id": "511b6b38",
   "metadata": {},
   "outputs": [],
   "source": [
    "input_ids = torch.tensor(padded)  \n",
    "attention_mask = torch.tensor(attention_mask)"
   ]
  },
  {
   "cell_type": "code",
   "execution_count": 55,
   "id": "06bc7ce4",
   "metadata": {},
   "outputs": [
    {
     "name": "stdout",
     "output_type": "stream",
     "text": [
      "실행시간 : 1135.37초\n"
     ]
    }
   ],
   "source": [
    "start_time = time.time()\n",
    "\n",
    "with torch.no_grad():\n",
    "    last_hidden_states = model(input_ids, attention_mask=attention_mask)\n",
    "    \n",
    "\n",
    "end_time = time.time()\n",
    "\n",
    "execution_time = end_time - start_time\n",
    "print(\"실행시간 : {:.2f}초\".format(execution_time))"
   ]
  },
  {
   "cell_type": "code",
   "execution_count": 56,
   "id": "f0bc59c8",
   "metadata": {},
   "outputs": [
    {
     "data": {
      "text/plain": [
       "BaseModelOutput(last_hidden_state=tensor([[[-1.5385e-01,  7.2713e-02,  8.2515e-02,  ..., -2.0437e-01,\n",
       "           2.2180e-01,  3.0742e-01],\n",
       "         [ 1.4307e-01,  5.8621e-01,  6.0889e-01,  ..., -2.6835e-02,\n",
       "           3.0449e-01,  2.1144e-01],\n",
       "         [-2.6475e-01,  3.6879e-01,  4.2169e-01,  ..., -1.6384e-01,\n",
       "           1.9031e-01,  4.7654e-01],\n",
       "         ...,\n",
       "         [ 4.6267e-02,  1.0851e-01,  1.6160e-01,  ..., -2.3273e-02,\n",
       "          -1.3028e-01,  2.0142e-01],\n",
       "         [-5.7496e-02,  9.6741e-02,  1.9183e-01,  ..., -3.7689e-03,\n",
       "          -1.1591e-01,  1.8695e-01],\n",
       "         [-1.7583e-01,  1.1705e-01,  2.6425e-01,  ...,  8.2515e-03,\n",
       "          -1.2983e-01,  1.6177e-01]],\n",
       "\n",
       "        [[-2.0670e-01, -1.5694e-01,  1.5372e-01,  ..., -1.1306e-01,\n",
       "           1.6110e-01,  3.3893e-01],\n",
       "         [-1.4225e-01,  1.5439e-01,  5.7348e-01,  ..., -8.2793e-02,\n",
       "           4.5070e-01,  2.1473e-01],\n",
       "         [ 1.8926e-02, -3.7374e-01,  3.7850e-01,  ..., -3.2969e-01,\n",
       "           1.6505e-01,  1.1392e-01],\n",
       "         ...,\n",
       "         [-1.2855e-01, -5.1792e-02,  4.9182e-01,  ...,  5.3550e-02,\n",
       "          -1.2174e-01,  2.2928e-01],\n",
       "         [-1.4163e-01, -3.0642e-02,  5.3188e-01,  ...,  6.5425e-02,\n",
       "          -1.7381e-01,  2.3515e-01],\n",
       "         [-2.1326e-01, -1.5926e-02,  5.1999e-01,  ...,  3.0837e-02,\n",
       "          -1.5365e-01,  3.0912e-01]],\n",
       "\n",
       "        [[-1.7890e-01, -3.3641e-02, -1.0298e-02,  ..., -2.0699e-01,\n",
       "           3.3778e-01,  2.7352e-01],\n",
       "         [ 1.5638e-01,  9.2361e-02,  1.3845e-01,  ..., -1.4178e-02,\n",
       "           9.4619e-02, -3.0604e-01],\n",
       "         [ 1.2510e-01,  4.0930e-02,  5.5654e-01,  ...,  2.2263e-03,\n",
       "           1.3724e-01, -3.1374e-01],\n",
       "         ...,\n",
       "         [ 4.0595e-02,  3.6977e-02,  1.3938e-01,  ...,  2.2060e-02,\n",
       "          -1.2583e-01,  1.2612e-01],\n",
       "         [ 1.4564e-02,  4.7997e-02,  1.7343e-01,  ...,  2.0929e-02,\n",
       "          -1.4833e-01,  1.3205e-01],\n",
       "         [ 9.7507e-03,  5.9087e-02,  1.9028e-01,  ...,  5.4164e-04,\n",
       "          -1.4362e-01,  1.0711e-01]],\n",
       "\n",
       "        ...,\n",
       "\n",
       "        [[-2.9080e-01, -3.4380e-02, -2.4478e-03,  ..., -2.2502e-01,\n",
       "           4.0470e-01,  4.6334e-01],\n",
       "         [-1.9512e-01,  3.2554e-01,  3.4880e-01,  ..., -2.3243e-01,\n",
       "           2.5192e-02, -4.0713e-02],\n",
       "         [-4.0463e-01, -1.4556e-01,  2.1124e-01,  ..., -2.1274e-02,\n",
       "           7.4083e-02, -1.3649e-01],\n",
       "         ...,\n",
       "         [-1.9594e-02, -9.5097e-02,  2.2630e-01,  ..., -2.2127e-01,\n",
       "          -4.5591e-03,  2.9270e-02],\n",
       "         [-2.9172e-02, -8.1973e-02,  2.3365e-01,  ..., -2.0538e-01,\n",
       "          -2.6057e-02,  5.4934e-02],\n",
       "         [-2.5077e-01,  1.2468e-01,  3.3590e-01,  ..., -1.9256e-01,\n",
       "          -6.3872e-02,  5.1363e-02]],\n",
       "\n",
       "        [[-1.8297e-01,  1.5657e-01, -1.0412e-02,  ..., -3.1541e-01,\n",
       "           3.8744e-01,  3.7352e-01],\n",
       "         [-3.4130e-01,  4.8222e-01,  5.5884e-01,  ..., -1.6911e-01,\n",
       "           3.7719e-01,  5.6866e-01],\n",
       "         [ 4.2358e-01, -1.1749e-01,  8.0240e-01,  ...,  2.5327e-02,\n",
       "          -1.6001e-01, -2.7017e-01],\n",
       "         ...,\n",
       "         [-7.8112e-03,  1.5636e-01,  3.1317e-01,  ..., -7.2449e-02,\n",
       "           6.8707e-02,  5.6419e-02],\n",
       "         [ 4.3541e-02, -2.4689e-02,  1.9991e-01,  ...,  5.5687e-02,\n",
       "           1.3796e-01,  9.2621e-02],\n",
       "         [ 3.4130e-02,  2.0534e-02,  2.3419e-01,  ...,  1.6384e-02,\n",
       "           1.4282e-01,  8.8597e-02]],\n",
       "\n",
       "        [[-1.3745e-01, -7.6368e-02, -1.2231e-01,  ..., -1.6121e-01,\n",
       "           2.9353e-01,  2.7348e-01],\n",
       "         [ 1.9255e-01,  1.9035e-01,  4.3857e-02,  ..., -1.3715e-01,\n",
       "           1.8628e-01, -4.5991e-01],\n",
       "         [ 3.7415e-01,  6.5683e-02,  1.2838e-01,  ..., -1.8534e-01,\n",
       "          -1.6175e-01, -5.6405e-01],\n",
       "         ...,\n",
       "         [ 2.0926e-01,  1.1814e-02, -1.9838e-01,  ...,  1.5559e-01,\n",
       "          -4.5065e-02,  5.5500e-02],\n",
       "         [ 1.1529e-01, -1.6855e-03, -1.6607e-01,  ...,  7.5894e-02,\n",
       "          -5.4107e-02,  8.4258e-02],\n",
       "         [ 7.1727e-02,  1.2831e-01,  7.7785e-03,  ..., -7.7279e-02,\n",
       "          -2.4031e-02,  9.2790e-02]]]), hidden_states=None, attentions=None)"
      ]
     },
     "execution_count": 56,
     "metadata": {},
     "output_type": "execute_result"
    }
   ],
   "source": [
    "last_hidden_states"
   ]
  },
  {
   "cell_type": "code",
   "execution_count": 57,
   "id": "64a45671",
   "metadata": {},
   "outputs": [
    {
     "data": {
      "text/plain": [
       "array([[-0.15385434,  0.07271296,  0.08251468, ..., -0.20436928,\n",
       "         0.22180368,  0.3074177 ],\n",
       "       [-0.20669799, -0.15693793,  0.15371713, ..., -0.11306448,\n",
       "         0.16109559,  0.33892694],\n",
       "       [-0.17889565, -0.0336409 , -0.01029849, ..., -0.20698549,\n",
       "         0.3377763 ,  0.2735197 ],\n",
       "       ...,\n",
       "       [-0.29080486, -0.03437957, -0.00244784, ..., -0.22502403,\n",
       "         0.40469924,  0.46333855],\n",
       "       [-0.18297338,  0.15656786, -0.01041197, ..., -0.31541196,\n",
       "         0.3874374 ,  0.3735156 ],\n",
       "       [-0.1374458 , -0.07636792, -0.12231088, ..., -0.16121049,\n",
       "         0.29353416,  0.27347556]], dtype=float32)"
      ]
     },
     "execution_count": 57,
     "metadata": {},
     "output_type": "execute_result"
    },
    {
     "data": {
      "text/plain": [
       "5459      neutral\n",
       "36069    negative\n",
       "34623     neutral\n",
       "24877    positive\n",
       "12762    surprise\n",
       "           ...   \n",
       "10398    negative\n",
       "21383     neutral\n",
       "79       negative\n",
       "18453    negative\n",
       "13585    positive\n",
       "Name: sentiment, Length: 10000, dtype: object"
      ]
     },
     "execution_count": 57,
     "metadata": {},
     "output_type": "execute_result"
    }
   ],
   "source": [
    "features = last_hidden_states[0][:,0,:].numpy()\n",
    "features\n",
    "labels=df_sampled2[\"sentiment\"]\n",
    "labels"
   ]
  },
  {
   "cell_type": "markdown",
   "id": "78c83f7e",
   "metadata": {},
   "source": [
    "## Logistic Regression"
   ]
  },
  {
   "cell_type": "code",
   "execution_count": 58,
   "id": "574e30a4",
   "metadata": {},
   "outputs": [
    {
     "data": {
      "text/plain": [
       "((7500, 768), (2500, 768), (7500,), (2500,))"
      ]
     },
     "execution_count": 58,
     "metadata": {},
     "output_type": "execute_result"
    }
   ],
   "source": [
    "x_train, x_test, y_train,  y_test = train_test_split(features, labels)\n",
    "x_train.shape, x_test.shape, y_train.shape, y_test.shape"
   ]
  },
  {
   "cell_type": "code",
   "execution_count": 59,
   "id": "fa514dfe",
   "metadata": {},
   "outputs": [
    {
     "data": {
      "text/html": [
       "<style>#sk-container-id-2 {color: black;background-color: white;}#sk-container-id-2 pre{padding: 0;}#sk-container-id-2 div.sk-toggleable {background-color: white;}#sk-container-id-2 label.sk-toggleable__label {cursor: pointer;display: block;width: 100%;margin-bottom: 0;padding: 0.3em;box-sizing: border-box;text-align: center;}#sk-container-id-2 label.sk-toggleable__label-arrow:before {content: \"▸\";float: left;margin-right: 0.25em;color: #696969;}#sk-container-id-2 label.sk-toggleable__label-arrow:hover:before {color: black;}#sk-container-id-2 div.sk-estimator:hover label.sk-toggleable__label-arrow:before {color: black;}#sk-container-id-2 div.sk-toggleable__content {max-height: 0;max-width: 0;overflow: hidden;text-align: left;background-color: #f0f8ff;}#sk-container-id-2 div.sk-toggleable__content pre {margin: 0.2em;color: black;border-radius: 0.25em;background-color: #f0f8ff;}#sk-container-id-2 input.sk-toggleable__control:checked~div.sk-toggleable__content {max-height: 200px;max-width: 100%;overflow: auto;}#sk-container-id-2 input.sk-toggleable__control:checked~label.sk-toggleable__label-arrow:before {content: \"▾\";}#sk-container-id-2 div.sk-estimator input.sk-toggleable__control:checked~label.sk-toggleable__label {background-color: #d4ebff;}#sk-container-id-2 div.sk-label input.sk-toggleable__control:checked~label.sk-toggleable__label {background-color: #d4ebff;}#sk-container-id-2 input.sk-hidden--visually {border: 0;clip: rect(1px 1px 1px 1px);clip: rect(1px, 1px, 1px, 1px);height: 1px;margin: -1px;overflow: hidden;padding: 0;position: absolute;width: 1px;}#sk-container-id-2 div.sk-estimator {font-family: monospace;background-color: #f0f8ff;border: 1px dotted black;border-radius: 0.25em;box-sizing: border-box;margin-bottom: 0.5em;}#sk-container-id-2 div.sk-estimator:hover {background-color: #d4ebff;}#sk-container-id-2 div.sk-parallel-item::after {content: \"\";width: 100%;border-bottom: 1px solid gray;flex-grow: 1;}#sk-container-id-2 div.sk-label:hover label.sk-toggleable__label {background-color: #d4ebff;}#sk-container-id-2 div.sk-serial::before {content: \"\";position: absolute;border-left: 1px solid gray;box-sizing: border-box;top: 0;bottom: 0;left: 50%;z-index: 0;}#sk-container-id-2 div.sk-serial {display: flex;flex-direction: column;align-items: center;background-color: white;padding-right: 0.2em;padding-left: 0.2em;position: relative;}#sk-container-id-2 div.sk-item {position: relative;z-index: 1;}#sk-container-id-2 div.sk-parallel {display: flex;align-items: stretch;justify-content: center;background-color: white;position: relative;}#sk-container-id-2 div.sk-item::before, #sk-container-id-2 div.sk-parallel-item::before {content: \"\";position: absolute;border-left: 1px solid gray;box-sizing: border-box;top: 0;bottom: 0;left: 50%;z-index: -1;}#sk-container-id-2 div.sk-parallel-item {display: flex;flex-direction: column;z-index: 1;position: relative;background-color: white;}#sk-container-id-2 div.sk-parallel-item:first-child::after {align-self: flex-end;width: 50%;}#sk-container-id-2 div.sk-parallel-item:last-child::after {align-self: flex-start;width: 50%;}#sk-container-id-2 div.sk-parallel-item:only-child::after {width: 0;}#sk-container-id-2 div.sk-dashed-wrapped {border: 1px dashed gray;margin: 0 0.4em 0.5em 0.4em;box-sizing: border-box;padding-bottom: 0.4em;background-color: white;}#sk-container-id-2 div.sk-label label {font-family: monospace;font-weight: bold;display: inline-block;line-height: 1.2em;}#sk-container-id-2 div.sk-label-container {text-align: center;}#sk-container-id-2 div.sk-container {/* jupyter's `normalize.less` sets `[hidden] { display: none; }` but bootstrap.min.css set `[hidden] { display: none !important; }` so we also need the `!important` here to be able to override the default hidden behavior on the sphinx rendered scikit-learn.org. See: https://github.com/scikit-learn/scikit-learn/issues/21755 */display: inline-block !important;position: relative;}#sk-container-id-2 div.sk-text-repr-fallback {display: none;}</style><div id=\"sk-container-id-2\" class=\"sk-top-container\"><div class=\"sk-text-repr-fallback\"><pre>LogisticRegression(solver=&#x27;liblinear&#x27;)</pre><b>In a Jupyter environment, please rerun this cell to show the HTML representation or trust the notebook. <br />On GitHub, the HTML representation is unable to render, please try loading this page with nbviewer.org.</b></div><div class=\"sk-container\" hidden><div class=\"sk-item\"><div class=\"sk-estimator sk-toggleable\"><input class=\"sk-toggleable__control sk-hidden--visually\" id=\"sk-estimator-id-2\" type=\"checkbox\" checked><label for=\"sk-estimator-id-2\" class=\"sk-toggleable__label sk-toggleable__label-arrow\">LogisticRegression</label><div class=\"sk-toggleable__content\"><pre>LogisticRegression(solver=&#x27;liblinear&#x27;)</pre></div></div></div></div></div>"
      ],
      "text/plain": [
       "LogisticRegression(solver='liblinear')"
      ]
     },
     "execution_count": 59,
     "metadata": {},
     "output_type": "execute_result"
    }
   ],
   "source": [
    "from sklearn.linear_model import LogisticRegression\n",
    "\n",
    "lr = LogisticRegression(solver='liblinear')\n",
    "lr.fit(x_train, y_train)"
   ]
  },
  {
   "cell_type": "code",
   "execution_count": 60,
   "id": "80b92312",
   "metadata": {},
   "outputs": [
    {
     "data": {
      "text/plain": [
       "array(['positive', 'positive', 'neutral', ..., 'positive', 'positive',\n",
       "       'negative'], dtype=object)"
      ]
     },
     "execution_count": 60,
     "metadata": {},
     "output_type": "execute_result"
    }
   ],
   "source": [
    "pred = lr.predict(x_test)\n",
    "pred"
   ]
  },
  {
   "cell_type": "markdown",
   "id": "ef5d5313",
   "metadata": {},
   "source": [
    "## Evaluating"
   ]
  },
  {
   "cell_type": "code",
   "execution_count": 61,
   "id": "5044a48d",
   "metadata": {},
   "outputs": [
    {
     "name": "stdout",
     "output_type": "stream",
     "text": [
      "Accuracy: 0.5424\n",
      "Precision: 0.2982513965444581\n",
      "Recall: 0.31795772639027414\n",
      "F1 Score: 0.304735659483237\n"
     ]
    }
   ],
   "source": [
    "from sklearn.metrics import accuracy_score, confusion_matrix, precision_score, recall_score, f1_score\n",
    "\n",
    "#accuracy\n",
    "accuracy = accuracy_score(y_test, pred)\n",
    "#precision\n",
    "precision = precision_score(y_test, pred, average='macro')\n",
    "#recall\n",
    "recall = recall_score(y_test, pred, average='macro')\n",
    "#f1_score\n",
    "f1 = f1_score(y_test, pred, average='macro')\n",
    "\n",
    "print(f\"Accuracy: {accuracy}\")\n",
    "print(f\"Precision: {precision}\")\n",
    "print(f\"Recall: {recall}\")\n",
    "print(f\"F1 Score: {f1}\")"
   ]
  },
  {
   "cell_type": "code",
   "execution_count": 62,
   "id": "e50e2fc0",
   "metadata": {},
   "outputs": [
    {
     "name": "stdout",
     "output_type": "stream",
     "text": [
      "Accuracy: 0.5424\n"
     ]
    }
   ],
   "source": [
    "from sklearn.metrics import accuracy_score, confusion_matrix, precision_score, recall_score, f1_score\n",
    "\n",
    "#accuracy\n",
    "accuracy = accuracy_score(y_test, pred)\n",
    "print(f\"Accuracy: {accuracy}\")"
   ]
  },
  {
   "cell_type": "code",
   "execution_count": null,
   "id": "df3615fd",
   "metadata": {},
   "outputs": [],
   "source": []
  }
 ],
 "metadata": {
  "kernelspec": {
   "display_name": "Python 3 (ipykernel)",
   "language": "python",
   "name": "python3"
  },
  "language_info": {
   "codemirror_mode": {
    "name": "ipython",
    "version": 3
   },
   "file_extension": ".py",
   "mimetype": "text/x-python",
   "name": "python",
   "nbconvert_exporter": "python",
   "pygments_lexer": "ipython3",
   "version": "3.9.16"
  },
  "toc": {
   "base_numbering": 1,
   "nav_menu": {},
   "number_sections": true,
   "sideBar": true,
   "skip_h1_title": false,
   "title_cell": "Table of Contents",
   "title_sidebar": "Contents",
   "toc_cell": false,
   "toc_position": {
    "height": "calc(100% - 180px)",
    "left": "10px",
    "top": "150px",
    "width": "329.181px"
   },
   "toc_section_display": true,
   "toc_window_display": true
  }
 },
 "nbformat": 4,
 "nbformat_minor": 5
}
